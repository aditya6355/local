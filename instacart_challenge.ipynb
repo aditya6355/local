{
 "cells": [
  {
   "cell_type": "code",
   "execution_count": 2,
   "metadata": {},
   "outputs": [
    {
     "name": "stderr",
     "output_type": "stream",
     "text": [
      "c:\\users\\agarg5\\appdata\\local\\continuum\\anaconda3\\envs\\tensorflow-gpu\\lib\\site-packages\\sklearn\\cross_validation.py:41: DeprecationWarning: This module was deprecated in version 0.18 in favor of the model_selection module into which all the refactored classes and functions are moved. Also note that the interface of the new CV iterators are different from that of this module. This module will be removed in 0.20.\n",
      "  \"This module will be removed in 0.20.\", DeprecationWarning)\n"
     ]
    }
   ],
   "source": [
    "%matplotlib inline\n",
    "import numpy as np\n",
    "import pandas as pd\n",
    "import lightgbm as lgb\n",
    "import xgboost as xgb\n",
    "from matplotlib import pyplot as plt\n",
    "from sklearn.linear_model import LinearRegression\n",
    "from sklearn.metrics import accuracy_score\n",
    "from sklearn.model_selection import train_test_split\n",
    "from scipy.stats import pearsonr"
   ]
  },
  {
   "cell_type": "code",
   "execution_count": 3,
   "metadata": {},
   "outputs": [],
   "source": [
    "path = '../deeplearning1/nbs/data/instacart/instacart-picking-time-challenge-data/'\n",
    "train = pd.read_csv(path+'train_trips.csv')\n",
    "orders = pd.read_csv(path+'order_items.csv')\n",
    "test = pd.read_csv(path+'test_trips.csv')\n"
   ]
  },
  {
   "cell_type": "code",
   "execution_count": 4,
   "metadata": {},
   "outputs": [
    {
     "data": {
      "text/plain": [
       "117063"
      ]
     },
     "execution_count": 4,
     "metadata": {},
     "output_type": "execute_result"
    }
   ],
   "source": [
    "len(train)"
   ]
  },
  {
   "cell_type": "code",
   "execution_count": 5,
   "metadata": {},
   "outputs": [
    {
     "data": {
      "text/html": [
       "<div>\n",
       "<style scoped>\n",
       "    .dataframe tbody tr th:only-of-type {\n",
       "        vertical-align: middle;\n",
       "    }\n",
       "\n",
       "    .dataframe tbody tr th {\n",
       "        vertical-align: top;\n",
       "    }\n",
       "\n",
       "    .dataframe thead th {\n",
       "        text-align: right;\n",
       "    }\n",
       "</style>\n",
       "<table border=\"1\" class=\"dataframe\">\n",
       "  <thead>\n",
       "    <tr style=\"text-align: right;\">\n",
       "      <th></th>\n",
       "      <th>trip_id</th>\n",
       "      <th>shopper_id</th>\n",
       "      <th>fulfillment_model</th>\n",
       "      <th>store_id</th>\n",
       "      <th>shopping_started_at</th>\n",
       "      <th>shopping_ended_at</th>\n",
       "    </tr>\n",
       "  </thead>\n",
       "  <tbody>\n",
       "    <tr>\n",
       "      <th>0</th>\n",
       "      <td>3119519</td>\n",
       "      <td>48539</td>\n",
       "      <td>model_1</td>\n",
       "      <td>6</td>\n",
       "      <td>9/1/2015 7:03</td>\n",
       "      <td>9/1/2015 7:30</td>\n",
       "    </tr>\n",
       "    <tr>\n",
       "      <th>1</th>\n",
       "      <td>3119513</td>\n",
       "      <td>3775</td>\n",
       "      <td>model_1</td>\n",
       "      <td>1</td>\n",
       "      <td>9/1/2015 7:04</td>\n",
       "      <td>9/1/2015 7:40</td>\n",
       "    </tr>\n",
       "    <tr>\n",
       "      <th>2</th>\n",
       "      <td>3119516</td>\n",
       "      <td>4362</td>\n",
       "      <td>model_1</td>\n",
       "      <td>1</td>\n",
       "      <td>9/1/2015 7:23</td>\n",
       "      <td>9/1/2015 7:41</td>\n",
       "    </tr>\n",
       "    <tr>\n",
       "      <th>3</th>\n",
       "      <td>3119792</td>\n",
       "      <td>47659</td>\n",
       "      <td>model_1</td>\n",
       "      <td>1</td>\n",
       "      <td>9/1/2015 7:29</td>\n",
       "      <td>9/1/2015 8:55</td>\n",
       "    </tr>\n",
       "    <tr>\n",
       "      <th>4</th>\n",
       "      <td>3119922</td>\n",
       "      <td>11475</td>\n",
       "      <td>model_1</td>\n",
       "      <td>1</td>\n",
       "      <td>9/1/2015 7:32</td>\n",
       "      <td>9/1/2015 9:01</td>\n",
       "    </tr>\n",
       "  </tbody>\n",
       "</table>\n",
       "</div>"
      ],
      "text/plain": [
       "   trip_id  shopper_id fulfillment_model  store_id shopping_started_at  \\\n",
       "0  3119519       48539           model_1         6       9/1/2015 7:03   \n",
       "1  3119513        3775           model_1         1       9/1/2015 7:04   \n",
       "2  3119516        4362           model_1         1       9/1/2015 7:23   \n",
       "3  3119792       47659           model_1         1       9/1/2015 7:29   \n",
       "4  3119922       11475           model_1         1       9/1/2015 7:32   \n",
       "\n",
       "  shopping_ended_at  \n",
       "0     9/1/2015 7:30  \n",
       "1     9/1/2015 7:40  \n",
       "2     9/1/2015 7:41  \n",
       "3     9/1/2015 8:55  \n",
       "4     9/1/2015 9:01  "
      ]
     },
     "execution_count": 5,
     "metadata": {},
     "output_type": "execute_result"
    }
   ],
   "source": [
    "train.head()"
   ]
  },
  {
   "cell_type": "code",
   "execution_count": 223,
   "metadata": {},
   "outputs": [
    {
     "data": {
      "text/plain": [
       "2040286"
      ]
     },
     "execution_count": 223,
     "metadata": {},
     "output_type": "execute_result"
    }
   ],
   "source": [
    "len(orders)"
   ]
  },
  {
   "cell_type": "code",
   "execution_count": 260,
   "metadata": {},
   "outputs": [],
   "source": [
    "xx = pd.DataFrame()\n",
    "xx['test'] = pd.DatetimeIndex(['7:32 1/9/2015'])"
   ]
  },
  {
   "cell_type": "code",
   "execution_count": 261,
   "metadata": {},
   "outputs": [
    {
     "data": {
      "text/plain": [
       "0   2015-01-09 07:32:00\n",
       "Name: test, dtype: datetime64[ns]"
      ]
     },
     "execution_count": 261,
     "metadata": {},
     "output_type": "execute_result"
    }
   ],
   "source": [
    "xx.test"
   ]
  },
  {
   "cell_type": "code",
   "execution_count": 11,
   "metadata": {},
   "outputs": [
    {
     "data": {
      "text/html": [
       "<div>\n",
       "<style scoped>\n",
       "    .dataframe tbody tr th:only-of-type {\n",
       "        vertical-align: middle;\n",
       "    }\n",
       "\n",
       "    .dataframe tbody tr th {\n",
       "        vertical-align: top;\n",
       "    }\n",
       "\n",
       "    .dataframe thead th {\n",
       "        text-align: right;\n",
       "    }\n",
       "</style>\n",
       "<table border=\"1\" class=\"dataframe\">\n",
       "  <thead>\n",
       "    <tr style=\"text-align: right;\">\n",
       "      <th></th>\n",
       "      <th>trip_id</th>\n",
       "      <th>item_id</th>\n",
       "      <th>department_name</th>\n",
       "      <th>quantity</th>\n",
       "    </tr>\n",
       "  </thead>\n",
       "  <tbody>\n",
       "    <tr>\n",
       "      <th>0</th>\n",
       "      <td>3119513</td>\n",
       "      <td>368671</td>\n",
       "      <td>Produce</td>\n",
       "      <td>10.0</td>\n",
       "    </tr>\n",
       "    <tr>\n",
       "      <th>1</th>\n",
       "      <td>3120462</td>\n",
       "      <td>368671</td>\n",
       "      <td>Produce</td>\n",
       "      <td>10.0</td>\n",
       "    </tr>\n",
       "    <tr>\n",
       "      <th>2</th>\n",
       "      <td>3120473</td>\n",
       "      <td>368671</td>\n",
       "      <td>Produce</td>\n",
       "      <td>10.0</td>\n",
       "    </tr>\n",
       "    <tr>\n",
       "      <th>3</th>\n",
       "      <td>3121910</td>\n",
       "      <td>368671</td>\n",
       "      <td>Produce</td>\n",
       "      <td>6.0</td>\n",
       "    </tr>\n",
       "    <tr>\n",
       "      <th>4</th>\n",
       "      <td>3122332</td>\n",
       "      <td>368671</td>\n",
       "      <td>Produce</td>\n",
       "      <td>10.0</td>\n",
       "    </tr>\n",
       "  </tbody>\n",
       "</table>\n",
       "</div>"
      ],
      "text/plain": [
       "   trip_id  item_id department_name  quantity\n",
       "0  3119513   368671         Produce      10.0\n",
       "1  3120462   368671         Produce      10.0\n",
       "2  3120473   368671         Produce      10.0\n",
       "3  3121910   368671         Produce       6.0\n",
       "4  3122332   368671         Produce      10.0"
      ]
     },
     "execution_count": 11,
     "metadata": {},
     "output_type": "execute_result"
    }
   ],
   "source": [
    "orders.head()"
   ]
  },
  {
   "cell_type": "code",
   "execution_count": 12,
   "metadata": {},
   "outputs": [
    {
     "data": {
      "text/html": [
       "<div>\n",
       "<style scoped>\n",
       "    .dataframe tbody tr th:only-of-type {\n",
       "        vertical-align: middle;\n",
       "    }\n",
       "\n",
       "    .dataframe tbody tr th {\n",
       "        vertical-align: top;\n",
       "    }\n",
       "\n",
       "    .dataframe thead th {\n",
       "        text-align: right;\n",
       "    }\n",
       "</style>\n",
       "<table border=\"1\" class=\"dataframe\">\n",
       "  <thead>\n",
       "    <tr style=\"text-align: right;\">\n",
       "      <th></th>\n",
       "      <th>trip_id</th>\n",
       "      <th>shopper_id</th>\n",
       "      <th>fulfillment_model</th>\n",
       "      <th>store_id</th>\n",
       "      <th>shopping_started_at</th>\n",
       "    </tr>\n",
       "  </thead>\n",
       "  <tbody>\n",
       "    <tr>\n",
       "      <th>0</th>\n",
       "      <td>4310899</td>\n",
       "      <td>60930</td>\n",
       "      <td>model_2</td>\n",
       "      <td>123</td>\n",
       "      <td>2015-11-16 07:00:12</td>\n",
       "    </tr>\n",
       "    <tr>\n",
       "      <th>1</th>\n",
       "      <td>4310904</td>\n",
       "      <td>59815</td>\n",
       "      <td>model_2</td>\n",
       "      <td>123</td>\n",
       "      <td>2015-11-16 07:00:12</td>\n",
       "    </tr>\n",
       "    <tr>\n",
       "      <th>2</th>\n",
       "      <td>4310907</td>\n",
       "      <td>60878</td>\n",
       "      <td>model_2</td>\n",
       "      <td>123</td>\n",
       "      <td>2015-11-16 07:00:13</td>\n",
       "    </tr>\n",
       "    <tr>\n",
       "      <th>3</th>\n",
       "      <td>4310911</td>\n",
       "      <td>60879</td>\n",
       "      <td>model_2</td>\n",
       "      <td>123</td>\n",
       "      <td>2015-11-16 07:00:13</td>\n",
       "    </tr>\n",
       "    <tr>\n",
       "      <th>4</th>\n",
       "      <td>4310328</td>\n",
       "      <td>66726</td>\n",
       "      <td>model_1</td>\n",
       "      <td>1</td>\n",
       "      <td>2015-11-16 07:01:08</td>\n",
       "    </tr>\n",
       "  </tbody>\n",
       "</table>\n",
       "</div>"
      ],
      "text/plain": [
       "   trip_id  shopper_id fulfillment_model  store_id  shopping_started_at\n",
       "0  4310899       60930           model_2       123  2015-11-16 07:00:12\n",
       "1  4310904       59815           model_2       123  2015-11-16 07:00:12\n",
       "2  4310907       60878           model_2       123  2015-11-16 07:00:13\n",
       "3  4310911       60879           model_2       123  2015-11-16 07:00:13\n",
       "4  4310328       66726           model_1         1  2015-11-16 07:01:08"
      ]
     },
     "execution_count": 12,
     "metadata": {},
     "output_type": "execute_result"
    }
   ],
   "source": [
    "test.head()"
   ]
  },
  {
   "cell_type": "code",
   "execution_count": 276,
   "metadata": {},
   "outputs": [
    {
     "name": "stdout",
     "output_type": "stream",
     "text": [
      "train=1484 , valid=1318, test=804, new_in_valid=22, new_in_test=150\n"
     ]
    }
   ],
   "source": [
    "s = X_test.shopper_id.unique()\n",
    "xx = X_train.shopper_id.unique()\n",
    "y_x = test.shopper_id.unique()\n",
    "xxx = 0\n",
    "y_xxx = 0\n",
    "for ss in s:\n",
    "    if (ss not in xx):\n",
    "        xxx += 1\n",
    "for ss in y_x:\n",
    "    if (ss not in xx):\n",
    "        y_xxx += 1\n",
    "print('train={} , valid={}, test={}, new_in_valid={}, new_in_test={}'.format(len(xx),len(s),len(y_x),xxx,y_xxx))\n",
    "## there are new shoppers as well"
   ]
  },
  {
   "cell_type": "code",
   "execution_count": 6,
   "metadata": {},
   "outputs": [],
   "source": [
    "total_quantity = orders['quantity'].groupby(orders.trip_id).sum()\n",
    "count = orders.groupby('trip_id')['department_name'].nunique()\n",
    "train['total_q'] = train.trip_id.map(total_quantity)\n",
    "train['unique_items'] = train.trip_id.map(count)"
   ]
  },
  {
   "cell_type": "code",
   "execution_count": 7,
   "metadata": {},
   "outputs": [],
   "source": [
    "list_items = orders['item_id'].groupby(orders.trip_id).apply(set)\n",
    "list_dep = orders['department_name'].groupby(orders.trip_id).apply(set)\n"
   ]
  },
  {
   "cell_type": "code",
   "execution_count": 8,
   "metadata": {},
   "outputs": [],
   "source": [
    "from datetime import datetime\n",
    "start = train.shopping_started_at\n",
    "end = train.shopping_ended_at\n",
    "total_time = [datetime.strptime(end.iloc[i],\"%m/%d/%Y %H:%M\") - datetime.strptime(start.iloc[i],\"%m/%d/%Y %H:%M\") for i in range(len(train))]\n",
    "train['total_time'] = [x.total_seconds() for x in total_time]\n",
    "\n",
    "train['avg_time'] = train.total_time / train.total_q\n",
    "avg_of_user = train.groupby('shopper_id')['avg_time'].mean()\n",
    "# train.drop('avg_of_user', inplace=True, axis=1)"
   ]
  },
  {
   "cell_type": "code",
   "execution_count": 9,
   "metadata": {},
   "outputs": [],
   "source": [
    "bb = []\n",
    "cc = []\n",
    "for i in range(len(train)):\n",
    "    aa = datetime.strptime(start.iloc[i],\"%m/%d/%Y %H:%M\")\n",
    "    bb.append(aa.hour)\n",
    "    cc.append(aa.weekday())\n",
    "train['hod'] = bb\n",
    "train['dow'] = cc\n",
    "train['list_items'] = train.trip_id.map(list_items)\n",
    "train['list_dep'] = train.trip_id.map(list_dep)"
   ]
  },
  {
   "cell_type": "code",
   "execution_count": 7,
   "metadata": {},
   "outputs": [
    {
     "data": {
      "text/plain": [
       "(184.19723544430795, 106.96862857605237, 39.960886571056065, 1950.0)"
      ]
     },
     "execution_count": 7,
     "metadata": {},
     "output_type": "execute_result"
    }
   ],
   "source": [
    "avg_of_user.mean(),avg_of_user.std(),avg_of_user.min(),avg_of_user.max()"
   ]
  },
  {
   "cell_type": "code",
   "execution_count": 522,
   "metadata": {},
   "outputs": [],
   "source": [
    "## find depts where unique items are less but total_time is higher than average\n",
    "list = train[(train.total_time>3180) & (train.unique_items<2)].list_dep\n",
    "a = {}\n",
    "for idx in list:\n",
    "    for dep in idx:\n",
    "        if (dep in a.keys()):\n",
    "            a[dep] = a[dep] + 1\n",
    "        else:\n",
    "            a[dep] = 1\n"
   ]
  },
  {
   "cell_type": "code",
   "execution_count": 523,
   "metadata": {},
   "outputs": [
    {
     "data": {
      "text/plain": [
       "[('Alcohol', 38),\n",
       " ('Beverages', 22),\n",
       " ('Snacks', 9),\n",
       " ('Cat', 8),\n",
       " ('Popular', 7),\n",
       " ('Dog', 6),\n",
       " ('Personal Care', 6),\n",
       " ('Dairy & Eggs', 5),\n",
       " ('Produce', 5),\n",
       " ('Meat & Seafood', 4),\n",
       " ('Bakery', 4),\n",
       " ('Deli', 3),\n",
       " ('Household', 3),\n",
       " ('Frozen', 2),\n",
       " ('Smoothie Central', 2),\n",
       " ('Ice Cream Social!', 1),\n",
       " ('Pets', 1),\n",
       " ('Costumes', 1),\n",
       " ('Breakfast', 1),\n",
       " ('Thanksgiving', 1),\n",
       " ('Babies', 1),\n",
       " ('Dry Goods & Pasta', 1),\n",
       " ('Bulk', 1),\n",
       " ('Pantry', 1)]"
      ]
     },
     "execution_count": 523,
     "metadata": {},
     "output_type": "execute_result"
    }
   ],
   "source": [
    "sorted(a.items(), key=operator.itemgetter(1),reverse=True)\n"
   ]
  },
  {
   "cell_type": "code",
   "execution_count": 8,
   "metadata": {},
   "outputs": [
    {
     "data": {
      "text/plain": [
       "department_name\n",
       "Popular         472826\n",
       "Produce         236651\n",
       "Dairy & Eggs    207164\n",
       "Snacks          175607\n",
       "Beverages       148023\n",
       "Name: department_name, dtype: int64"
      ]
     },
     "execution_count": 8,
     "metadata": {},
     "output_type": "execute_result"
    }
   ],
   "source": [
    "(orders.groupby('department_name')['department_name'].count()).sort_values(ascending=False).head()"
   ]
  },
  {
   "cell_type": "code",
   "execution_count": 10,
   "metadata": {},
   "outputs": [],
   "source": [
    "## seems like alcohol and beverages category takes the most time\n",
    "train['has_alcohol'] = ['Alcohol' in row for row in train.list_dep]\n",
    "train['has_beverage'] = ['Beverages' in row for row in train.list_dep]\n",
    "train['has_alcohol'] = train.has_alcohol.apply(int)\n",
    "train['has_beverage'] = train.has_beverage.apply(int)"
   ]
  },
  {
   "cell_type": "code",
   "execution_count": 11,
   "metadata": {},
   "outputs": [],
   "source": [
    "#Let's create some bins to divide on hours.\n",
    "train['hourbins'] = pd.cut(train.hod, bins=4)\n",
    "#Create categorical where day is Monday or Sunday\n",
    "train['is_busy'] = np.where(train.dow.isin([1,6]), 1, 0 )"
   ]
  },
  {
   "cell_type": "code",
   "execution_count": 12,
   "metadata": {},
   "outputs": [],
   "source": [
    "## calc reorder rate\n",
    "reorders = orders.merge(train.loc[:,['trip_id','shopper_id']], left_on='trip_id', right_on = 'trip_id', how='left')\n",
    "reordered_items = reorders.groupby(['shopper_id', 'item_id'])['trip_id'].count().to_frame()"
   ]
  },
  {
   "cell_type": "code",
   "execution_count": 79,
   "metadata": {},
   "outputs": [
    {
     "data": {
      "text/html": [
       "<div>\n",
       "<style scoped>\n",
       "    .dataframe tbody tr th:only-of-type {\n",
       "        vertical-align: middle;\n",
       "    }\n",
       "\n",
       "    .dataframe tbody tr th {\n",
       "        vertical-align: top;\n",
       "    }\n",
       "\n",
       "    .dataframe thead th {\n",
       "        text-align: right;\n",
       "    }\n",
       "</style>\n",
       "<table border=\"1\" class=\"dataframe\">\n",
       "  <thead>\n",
       "    <tr style=\"text-align: right;\">\n",
       "      <th></th>\n",
       "      <th></th>\n",
       "      <th>trip_id</th>\n",
       "    </tr>\n",
       "    <tr>\n",
       "      <th>shopper_id</th>\n",
       "      <th>item_id</th>\n",
       "      <th></th>\n",
       "    </tr>\n",
       "  </thead>\n",
       "  <tbody>\n",
       "    <tr>\n",
       "      <th rowspan=\"10\" valign=\"top\">52.0</th>\n",
       "      <th>489</th>\n",
       "      <td>1</td>\n",
       "    </tr>\n",
       "    <tr>\n",
       "      <th>547</th>\n",
       "      <td>1</td>\n",
       "    </tr>\n",
       "    <tr>\n",
       "      <th>1428</th>\n",
       "      <td>1</td>\n",
       "    </tr>\n",
       "    <tr>\n",
       "      <th>1597</th>\n",
       "      <td>1</td>\n",
       "    </tr>\n",
       "    <tr>\n",
       "      <th>1661</th>\n",
       "      <td>1</td>\n",
       "    </tr>\n",
       "    <tr>\n",
       "      <th>1669</th>\n",
       "      <td>1</td>\n",
       "    </tr>\n",
       "    <tr>\n",
       "      <th>1670</th>\n",
       "      <td>1</td>\n",
       "    </tr>\n",
       "    <tr>\n",
       "      <th>2853</th>\n",
       "      <td>1</td>\n",
       "    </tr>\n",
       "    <tr>\n",
       "      <th>3026</th>\n",
       "      <td>1</td>\n",
       "    </tr>\n",
       "    <tr>\n",
       "      <th>3030</th>\n",
       "      <td>2</td>\n",
       "    </tr>\n",
       "  </tbody>\n",
       "</table>\n",
       "</div>"
      ],
      "text/plain": [
       "                    trip_id\n",
       "shopper_id item_id         \n",
       "52.0       489            1\n",
       "           547            1\n",
       "           1428           1\n",
       "           1597           1\n",
       "           1661           1\n",
       "           1669           1\n",
       "           1670           1\n",
       "           2853           1\n",
       "           3026           1\n",
       "           3030           2"
      ]
     },
     "execution_count": 79,
     "metadata": {},
     "output_type": "execute_result"
    }
   ],
   "source": [
    "reordered_items.head(10)"
   ]
  },
  {
   "cell_type": "code",
   "execution_count": 13,
   "metadata": {},
   "outputs": [],
   "source": [
    "reordered_items = reordered_items.groupby('shopper_id')['trip_id'].sum() / reordered_items.groupby('shopper_id')['trip_id'].count()\n",
    "reordered_factor = reordered_items.to_frame().rename(columns = {'trip_id': 'reorder_factor'})\n",
    "reordered_factor.columns = ['reorder_factor']\n",
    "reordered_factor.reset_index(inplace =True)"
   ]
  },
  {
   "cell_type": "code",
   "execution_count": 14,
   "metadata": {},
   "outputs": [
    {
     "data": {
      "text/html": [
       "<div>\n",
       "<style scoped>\n",
       "    .dataframe tbody tr th:only-of-type {\n",
       "        vertical-align: middle;\n",
       "    }\n",
       "\n",
       "    .dataframe tbody tr th {\n",
       "        vertical-align: top;\n",
       "    }\n",
       "\n",
       "    .dataframe thead th {\n",
       "        text-align: right;\n",
       "    }\n",
       "</style>\n",
       "<table border=\"1\" class=\"dataframe\">\n",
       "  <thead>\n",
       "    <tr style=\"text-align: right;\">\n",
       "      <th></th>\n",
       "      <th>shopper_id</th>\n",
       "      <th>reorder_factor</th>\n",
       "    </tr>\n",
       "  </thead>\n",
       "  <tbody>\n",
       "    <tr>\n",
       "      <th>0</th>\n",
       "      <td>52.0</td>\n",
       "      <td>1.132127</td>\n",
       "    </tr>\n",
       "    <tr>\n",
       "      <th>1</th>\n",
       "      <td>64.0</td>\n",
       "      <td>1.034483</td>\n",
       "    </tr>\n",
       "    <tr>\n",
       "      <th>2</th>\n",
       "      <td>89.0</td>\n",
       "      <td>1.116862</td>\n",
       "    </tr>\n",
       "    <tr>\n",
       "      <th>3</th>\n",
       "      <td>95.0</td>\n",
       "      <td>1.144862</td>\n",
       "    </tr>\n",
       "    <tr>\n",
       "      <th>4</th>\n",
       "      <td>100.0</td>\n",
       "      <td>1.156822</td>\n",
       "    </tr>\n",
       "  </tbody>\n",
       "</table>\n",
       "</div>"
      ],
      "text/plain": [
       "   shopper_id  reorder_factor\n",
       "0        52.0        1.132127\n",
       "1        64.0        1.034483\n",
       "2        89.0        1.116862\n",
       "3        95.0        1.144862\n",
       "4       100.0        1.156822"
      ]
     },
     "execution_count": 14,
     "metadata": {},
     "output_type": "execute_result"
    }
   ],
   "source": [
    "reordered_factor.head()"
   ]
  },
  {
   "cell_type": "code",
   "execution_count": 15,
   "metadata": {},
   "outputs": [],
   "source": [
    "train = train.merge(reordered_factor, left_on = 'shopper_id', right_on = 'shopper_id', how = 'left')"
   ]
  },
  {
   "cell_type": "code",
   "execution_count": 119,
   "metadata": {},
   "outputs": [],
   "source": [
    "## user X total products ( test only )\n",
    "#train['UP'] = train.shopper_id + (train.total_q*10000)"
   ]
  },
  {
   "cell_type": "code",
   "execution_count": 364,
   "metadata": {},
   "outputs": [
    {
     "data": {
      "text/plain": [
       "(1090.3410749236432, 0.0, 2456.1769303708261, 1425.9587520105363)"
      ]
     },
     "execution_count": 364,
     "metadata": {},
     "output_type": "execute_result"
    }
   ],
   "source": [
    "from sklearn.metrics import mean_squared_error, make_scorer, r2_score, mean_absolute_error\n",
    "\n",
    "y_val = train.total_time\n",
    "#As baseline I'll use the mean as predictor first. \n",
    "y_means = np.ones_like(y_val) * y_val.mean()\n",
    "mean_absolute_error(y_val, y_means),r2_score(y_val,y_means),y_val.mean(),y_val.std()"
   ]
  },
  {
   "cell_type": "code",
   "execution_count": 362,
   "metadata": {},
   "outputs": [
    {
     "data": {
      "text/plain": [
       "<matplotlib.collections.PathCollection at 0x28f84ae3710>"
      ]
     },
     "execution_count": 362,
     "metadata": {},
     "output_type": "execute_result"
    },
    {
     "data": {
      "image/png": "[encoded data removed]",
      "text/plain": [
       "<matplotlib.figure.Figure at 0x28f82645b38>"
      ]
     },
     "metadata": {},
     "output_type": "display_data"
    }
   ],
   "source": [
    "plt.scatter(list(range(len(train))),train.total_time.sort_values())\n",
    "## this tells us that time higher then 4000 becomes too high"
   ]
  },
  {
   "cell_type": "code",
   "execution_count": 372,
   "metadata": {},
   "outputs": [
    {
     "data": {
      "text/plain": [
       "18444     {Produce, Bulk, Personal Care}\n",
       "31212                          {Popular}\n",
       "32971                           {Pantry}\n",
       "42725                   {Bakery, Frozen}\n",
       "42843                              {Dog}\n",
       "45101                    {Personal Care}\n",
       "52840                          {Produce}\n",
       "68798                          {Alcohol}\n",
       "72003                    {Personal Care}\n",
       "95697            {Bakery, Personal Care}\n",
       "112962                    {Dairy & Eggs}\n",
       "Name: list_dep, dtype: object"
      ]
     },
     "execution_count": 372,
     "metadata": {},
     "output_type": "execute_result"
    }
   ],
   "source": [
    "train[(train.total_time>4000) & (train.total_q<3)].list_dep"
   ]
  },
  {
   "cell_type": "code",
   "execution_count": 447,
   "metadata": {},
   "outputs": [
    {
     "data": {
      "text/plain": [
       "<matplotlib.collections.PathCollection at 0x14df7001c50>"
      ]
     },
     "execution_count": 447,
     "metadata": {},
     "output_type": "execute_result"
    },
    {
     "data": {
      "image/png": "[encoded data removed]",
      "text/plain": [
       "<matplotlib.figure.Figure at 0x14df7082860>"
      ]
     },
     "metadata": {},
     "output_type": "display_data"
    }
   ],
   "source": [
    "plt.scatter(avg_of_user.keys(),avg_of_user)"
   ]
  },
  {
   "cell_type": "code",
   "execution_count": 365,
   "metadata": {},
   "outputs": [
    {
     "data": {
      "text/plain": [
       "array(['Produce', 'Snacks', 'Popular', 'Dairy & Eggs', 'Deli', 'Beverages',\n",
       "       'Pantry', 'International', 'Canned Goods', 'Household',\n",
       "       'Dry Goods & Pasta', 'Bakery', 'Meat & Seafood', 'Breakfast',\n",
       "       'Frozen', 'Smoothie Central', 'Babies', 'Alcohol', 'Personal Care',\n",
       "       \"Valentine's Day Specials\", ..., 'BBQ Favorites', 'Hanukkah',\n",
       "       'Ready to Cook', \"Buyers' Picks\", 'Small Animal',\n",
       "       'Vitamins & Supplements', 'Star Wars', 'Rosh Hashanah & Yom Kippur',\n",
       "       'Reptile', 'Holiday', 'Fall Wine, Beer, & Spirits', 'Seasonal',\n",
       "       'Flowers & Plants', 'Costumes', 'Holiday Turkeys',\n",
       "       'Christmas & NYE Menu', 'Find it at Target', 'Holiday Butcher',\n",
       "       'Hanukkah Menu', 'Thanksgiving Menu'], dtype=object)"
      ]
     },
     "execution_count": 365,
     "metadata": {},
     "output_type": "execute_result"
    }
   ],
   "source": [
    "## since there are unseen users in the testset\n",
    "## calc avg time to shop each product\n",
    "orders['department_name'].unique()"
   ]
  },
  {
   "cell_type": "code",
   "execution_count": 13,
   "metadata": {},
   "outputs": [
    {
     "data": {
      "text/plain": [
       "shopper_id\n",
       "52      65\n",
       "64       4\n",
       "89     115\n",
       "95     116\n",
       "100    137\n",
       "Name: total_q, dtype: int64"
      ]
     },
     "execution_count": 13,
     "metadata": {},
     "output_type": "execute_result"
    }
   ],
   "source": [
    "## add features for shopper\n",
    "\n",
    "shopper_total_orders = train.groupby('shopper_id')['total_q'].count()\n",
    "shopper_total_orders.head()"
   ]
  },
  {
   "cell_type": "code",
   "execution_count": 374,
   "metadata": {},
   "outputs": [
    {
     "data": {
      "text/plain": [
       "<matplotlib.collections.PathCollection at 0x28f85dd00f0>"
      ]
     },
     "execution_count": 374,
     "metadata": {},
     "output_type": "execute_result"
    },
    {
     "data": {
      "image/png": "[encoded data removed]",
      "text/plain": [
       "<matplotlib.figure.Figure at 0x28f85d417b8>"
      ]
     },
     "metadata": {},
     "output_type": "display_data"
    }
   ],
   "source": [
    "plt.scatter(train.unique_items,train.total_time)\n"
   ]
  },
  {
   "cell_type": "code",
   "execution_count": 209,
   "metadata": {},
   "outputs": [
    {
     "data": {
      "text/plain": [
       "<matplotlib.collections.PathCollection at 0x2349cd78860>"
      ]
     },
     "execution_count": 209,
     "metadata": {},
     "output_type": "execute_result"
    },
    {
     "data": {
      "image/png": "[encoded data removed]",
      "text/plain": [
       "<matplotlib.figure.Figure at 0x2349cec8358>"
      ]
     },
     "metadata": {},
     "output_type": "display_data"
    }
   ],
   "source": [
    "plt.scatter(train.unique_items,train.total_q)"
   ]
  },
  {
   "cell_type": "code",
   "execution_count": 279,
   "metadata": {},
   "outputs": [
    {
     "data": {
      "text/plain": [
       "<matplotlib.collections.PathCollection at 0x14da32617f0>"
      ]
     },
     "execution_count": 279,
     "metadata": {},
     "output_type": "execute_result"
    },
    {
     "data": {
      "image/png": "[encoded data removed]",
      "text/plain": [
       "<matplotlib.figure.Figure at 0x14da027a630>"
      ]
     },
     "metadata": {},
     "output_type": "display_data"
    }
   ],
   "source": [
    "plt.scatter(train.shopper_id,train.total_time)"
   ]
  },
  {
   "cell_type": "code",
   "execution_count": 237,
   "metadata": {},
   "outputs": [
    {
     "data": {
      "text/plain": [
       "<matplotlib.collections.PathCollection at 0x14da0284cc0>"
      ]
     },
     "execution_count": 237,
     "metadata": {},
     "output_type": "execute_result"
    },
    {
     "data": {
      "image/png": "[encoded data removed]",
      "text/plain": [
       "<matplotlib.figure.Figure at 0x14d90e7c2b0>"
      ]
     },
     "metadata": {},
     "output_type": "display_data"
    }
   ],
   "source": [
    "plt.scatter(train.total_time/60,train.total_q,alpha=0.1)"
   ]
  },
  {
   "cell_type": "code",
   "execution_count": 369,
   "metadata": {},
   "outputs": [
    {
     "data": {
      "text/plain": [
       "(0.39468737857154601, 0.48841997825192018)"
      ]
     },
     "execution_count": 369,
     "metadata": {},
     "output_type": "execute_result"
    }
   ],
   "source": [
    "train.total_q.corr(train.total_time),train.unique_items.corr(train.total_time)"
   ]
  },
  {
   "cell_type": "code",
   "execution_count": 368,
   "metadata": {},
   "outputs": [
    {
     "data": {
      "text/html": [
       "<div>\n",
       "<style scoped>\n",
       "    .dataframe tbody tr th:only-of-type {\n",
       "        vertical-align: middle;\n",
       "    }\n",
       "\n",
       "    .dataframe tbody tr th {\n",
       "        vertical-align: top;\n",
       "    }\n",
       "\n",
       "    .dataframe thead th {\n",
       "        text-align: right;\n",
       "    }\n",
       "</style>\n",
       "<table border=\"1\" class=\"dataframe\">\n",
       "  <thead>\n",
       "    <tr style=\"text-align: right;\">\n",
       "      <th></th>\n",
       "      <th>trip_id</th>\n",
       "      <th>shopper_id</th>\n",
       "      <th>fulfillment_model</th>\n",
       "      <th>store_id</th>\n",
       "      <th>shopping_started_at</th>\n",
       "      <th>shopping_ended_at</th>\n",
       "      <th>total_q</th>\n",
       "      <th>unique_items</th>\n",
       "      <th>total_time</th>\n",
       "      <th>avg_time</th>\n",
       "      <th>hod</th>\n",
       "      <th>dow</th>\n",
       "      <th>list_items</th>\n",
       "      <th>list_dep</th>\n",
       "      <th>has_alcohol</th>\n",
       "      <th>has_beverage</th>\n",
       "      <th>hourbins</th>\n",
       "      <th>is_busy</th>\n",
       "      <th>reorder_factor</th>\n",
       "    </tr>\n",
       "  </thead>\n",
       "  <tbody>\n",
       "    <tr>\n",
       "      <th>0</th>\n",
       "      <td>3119519</td>\n",
       "      <td>48539</td>\n",
       "      <td>model_1</td>\n",
       "      <td>6</td>\n",
       "      <td>9/1/2015 7:03</td>\n",
       "      <td>9/1/2015 7:30</td>\n",
       "      <td>39.0</td>\n",
       "      <td>11</td>\n",
       "      <td>1620.0</td>\n",
       "      <td>41.538462</td>\n",
       "      <td>7</td>\n",
       "      <td>1</td>\n",
       "      <td>{1328769, 984065, 979208, 247571, 1322645, 132...</td>\n",
       "      <td>{Breakfast, Popular, Smoothie Central, Produce...</td>\n",
       "      <td>0</td>\n",
       "      <td>1</td>\n",
       "      <td>(6.984, 11.0]</td>\n",
       "      <td>1</td>\n",
       "      <td>1.080522</td>\n",
       "    </tr>\n",
       "    <tr>\n",
       "      <th>1</th>\n",
       "      <td>3119513</td>\n",
       "      <td>3775</td>\n",
       "      <td>model_1</td>\n",
       "      <td>1</td>\n",
       "      <td>9/1/2015 7:04</td>\n",
       "      <td>9/1/2015 7:40</td>\n",
       "      <td>183.0</td>\n",
       "      <td>8</td>\n",
       "      <td>2160.0</td>\n",
       "      <td>11.803279</td>\n",
       "      <td>7</td>\n",
       "      <td>1</td>\n",
       "      <td>{1889799, 1233034, 377611, 1233035, 1841682, 1...</td>\n",
       "      <td>{Popular, Deli, Produce, Dairy &amp; Eggs, Pantry,...</td>\n",
       "      <td>0</td>\n",
       "      <td>1</td>\n",
       "      <td>(6.984, 11.0]</td>\n",
       "      <td>1</td>\n",
       "      <td>1.129630</td>\n",
       "    </tr>\n",
       "    <tr>\n",
       "      <th>2</th>\n",
       "      <td>3119516</td>\n",
       "      <td>4362</td>\n",
       "      <td>model_1</td>\n",
       "      <td>1</td>\n",
       "      <td>9/1/2015 7:23</td>\n",
       "      <td>9/1/2015 7:41</td>\n",
       "      <td>9.0</td>\n",
       "      <td>5</td>\n",
       "      <td>1080.0</td>\n",
       "      <td>120.000000</td>\n",
       "      <td>7</td>\n",
       "      <td>1</td>\n",
       "      <td>{1253061, 1247385, 1257572, 1253493, 1236397}</td>\n",
       "      <td>{Popular, Beverages, Snacks, Canned Goods, Hou...</td>\n",
       "      <td>0</td>\n",
       "      <td>1</td>\n",
       "      <td>(6.984, 11.0]</td>\n",
       "      <td>1</td>\n",
       "      <td>1.938229</td>\n",
       "    </tr>\n",
       "    <tr>\n",
       "      <th>3</th>\n",
       "      <td>3119792</td>\n",
       "      <td>47659</td>\n",
       "      <td>model_1</td>\n",
       "      <td>1</td>\n",
       "      <td>9/1/2015 7:29</td>\n",
       "      <td>9/1/2015 8:55</td>\n",
       "      <td>92.0</td>\n",
       "      <td>10</td>\n",
       "      <td>5160.0</td>\n",
       "      <td>56.086957</td>\n",
       "      <td>7</td>\n",
       "      <td>1</td>\n",
       "      <td>{974977, 1273219, 1256070, 558088, 3032714, 12...</td>\n",
       "      <td>{Popular, Breakfast, Produce, Pantry, Dairy &amp; ...</td>\n",
       "      <td>0</td>\n",
       "      <td>1</td>\n",
       "      <td>(6.984, 11.0]</td>\n",
       "      <td>1</td>\n",
       "      <td>1.210400</td>\n",
       "    </tr>\n",
       "    <tr>\n",
       "      <th>4</th>\n",
       "      <td>3119922</td>\n",
       "      <td>11475</td>\n",
       "      <td>model_1</td>\n",
       "      <td>1</td>\n",
       "      <td>9/1/2015 7:32</td>\n",
       "      <td>9/1/2015 9:01</td>\n",
       "      <td>186.0</td>\n",
       "      <td>7</td>\n",
       "      <td>5340.0</td>\n",
       "      <td>28.709677</td>\n",
       "      <td>7</td>\n",
       "      <td>1</td>\n",
       "      <td>{1233408, 1235203, 1243525, 1262086, 1261717, ...</td>\n",
       "      <td>{Popular, Deli, Produce, Dairy &amp; Eggs, Bakery,...</td>\n",
       "      <td>0</td>\n",
       "      <td>1</td>\n",
       "      <td>(6.984, 11.0]</td>\n",
       "      <td>1</td>\n",
       "      <td>1.246304</td>\n",
       "    </tr>\n",
       "  </tbody>\n",
       "</table>\n",
       "</div>"
      ],
      "text/plain": [
       "   trip_id  shopper_id fulfillment_model  store_id shopping_started_at  \\\n",
       "0  3119519       48539           model_1         6       9/1/2015 7:03   \n",
       "1  3119513        3775           model_1         1       9/1/2015 7:04   \n",
       "2  3119516        4362           model_1         1       9/1/2015 7:23   \n",
       "3  3119792       47659           model_1         1       9/1/2015 7:29   \n",
       "4  3119922       11475           model_1         1       9/1/2015 7:32   \n",
       "\n",
       "  shopping_ended_at  total_q  unique_items  total_time    avg_time  hod  dow  \\\n",
       "0     9/1/2015 7:30     39.0            11      1620.0   41.538462    7    1   \n",
       "1     9/1/2015 7:40    183.0             8      2160.0   11.803279    7    1   \n",
       "2     9/1/2015 7:41      9.0             5      1080.0  120.000000    7    1   \n",
       "3     9/1/2015 8:55     92.0            10      5160.0   56.086957    7    1   \n",
       "4     9/1/2015 9:01    186.0             7      5340.0   28.709677    7    1   \n",
       "\n",
       "                                          list_items  \\\n",
       "0  {1328769, 984065, 979208, 247571, 1322645, 132...   \n",
       "1  {1889799, 1233034, 377611, 1233035, 1841682, 1...   \n",
       "2      {1253061, 1247385, 1257572, 1253493, 1236397}   \n",
       "3  {974977, 1273219, 1256070, 558088, 3032714, 12...   \n",
       "4  {1233408, 1235203, 1243525, 1262086, 1261717, ...   \n",
       "\n",
       "                                            list_dep  has_alcohol  \\\n",
       "0  {Breakfast, Popular, Smoothie Central, Produce...            0   \n",
       "1  {Popular, Deli, Produce, Dairy & Eggs, Pantry,...            0   \n",
       "2  {Popular, Beverages, Snacks, Canned Goods, Hou...            0   \n",
       "3  {Popular, Breakfast, Produce, Pantry, Dairy & ...            0   \n",
       "4  {Popular, Deli, Produce, Dairy & Eggs, Bakery,...            0   \n",
       "\n",
       "   has_beverage       hourbins  is_busy  reorder_factor  \n",
       "0             1  (6.984, 11.0]        1        1.080522  \n",
       "1             1  (6.984, 11.0]        1        1.129630  \n",
       "2             1  (6.984, 11.0]        1        1.938229  \n",
       "3             1  (6.984, 11.0]        1        1.210400  \n",
       "4             1  (6.984, 11.0]        1        1.246304  "
      ]
     },
     "execution_count": 368,
     "metadata": {},
     "output_type": "execute_result"
    }
   ],
   "source": [
    "train.head()"
   ]
  },
  {
   "cell_type": "code",
   "execution_count": 16,
   "metadata": {},
   "outputs": [
    {
     "data": {
      "text/html": [
       "<div>\n",
       "<style scoped>\n",
       "    .dataframe tbody tr th:only-of-type {\n",
       "        vertical-align: middle;\n",
       "    }\n",
       "\n",
       "    .dataframe tbody tr th {\n",
       "        vertical-align: top;\n",
       "    }\n",
       "\n",
       "    .dataframe thead th {\n",
       "        text-align: right;\n",
       "    }\n",
       "</style>\n",
       "<table border=\"1\" class=\"dataframe\">\n",
       "  <thead>\n",
       "    <tr style=\"text-align: right;\">\n",
       "      <th></th>\n",
       "      <th>trip_id</th>\n",
       "      <th>item_id</th>\n",
       "      <th>department_name</th>\n",
       "      <th>quantity</th>\n",
       "    </tr>\n",
       "  </thead>\n",
       "  <tbody>\n",
       "    <tr>\n",
       "      <th>count</th>\n",
       "      <td>2.04029e+06</td>\n",
       "      <td>2.04029e+06</td>\n",
       "      <td>NaN</td>\n",
       "      <td>2.04029e+06</td>\n",
       "    </tr>\n",
       "    <tr>\n",
       "      <th>mean</th>\n",
       "      <td>3.75273e+06</td>\n",
       "      <td>1.03944e+06</td>\n",
       "      <td>NaN</td>\n",
       "      <td>1.61123</td>\n",
       "    </tr>\n",
       "    <tr>\n",
       "      <th>std</th>\n",
       "      <td>381355</td>\n",
       "      <td>563691</td>\n",
       "      <td>NaN</td>\n",
       "      <td>2.04583</td>\n",
       "    </tr>\n",
       "    <tr>\n",
       "      <th>min</th>\n",
       "      <td>3.11951e+06</td>\n",
       "      <td>8</td>\n",
       "      <td>NaN</td>\n",
       "      <td>-0.75</td>\n",
       "    </tr>\n",
       "    <tr>\n",
       "      <th>25%</th>\n",
       "      <td>3.41698e+06</td>\n",
       "      <td>503683</td>\n",
       "      <td>NaN</td>\n",
       "      <td>1</td>\n",
       "    </tr>\n",
       "    <tr>\n",
       "      <th>50%</th>\n",
       "      <td>3.73367e+06</td>\n",
       "      <td>1.21844e+06</td>\n",
       "      <td>NaN</td>\n",
       "      <td>1</td>\n",
       "    </tr>\n",
       "    <tr>\n",
       "      <th>75%</th>\n",
       "      <td>4.0808e+06</td>\n",
       "      <td>1.27945e+06</td>\n",
       "      <td>NaN</td>\n",
       "      <td>2</td>\n",
       "    </tr>\n",
       "    <tr>\n",
       "      <th>max</th>\n",
       "      <td>4.44084e+06</td>\n",
       "      <td>3.17774e+06</td>\n",
       "      <td>NaN</td>\n",
       "      <td>500</td>\n",
       "    </tr>\n",
       "    <tr>\n",
       "      <th>counts</th>\n",
       "      <td>2040286</td>\n",
       "      <td>2040286</td>\n",
       "      <td>2040286</td>\n",
       "      <td>2040286</td>\n",
       "    </tr>\n",
       "    <tr>\n",
       "      <th>uniques</th>\n",
       "      <td>128710</td>\n",
       "      <td>98479</td>\n",
       "      <td>86</td>\n",
       "      <td>210</td>\n",
       "    </tr>\n",
       "    <tr>\n",
       "      <th>missing</th>\n",
       "      <td>0</td>\n",
       "      <td>0</td>\n",
       "      <td>0</td>\n",
       "      <td>0</td>\n",
       "    </tr>\n",
       "    <tr>\n",
       "      <th>missing_perc</th>\n",
       "      <td>0%</td>\n",
       "      <td>0%</td>\n",
       "      <td>0%</td>\n",
       "      <td>0%</td>\n",
       "    </tr>\n",
       "    <tr>\n",
       "      <th>types</th>\n",
       "      <td>numeric</td>\n",
       "      <td>numeric</td>\n",
       "      <td>categorical</td>\n",
       "      <td>numeric</td>\n",
       "    </tr>\n",
       "  </tbody>\n",
       "</table>\n",
       "</div>"
      ],
      "text/plain": [
       "                  trip_id      item_id department_name     quantity\n",
       "count         2.04029e+06  2.04029e+06             NaN  2.04029e+06\n",
       "mean          3.75273e+06  1.03944e+06             NaN      1.61123\n",
       "std                381355       563691             NaN      2.04583\n",
       "min           3.11951e+06            8             NaN        -0.75\n",
       "25%           3.41698e+06       503683             NaN            1\n",
       "50%           3.73367e+06  1.21844e+06             NaN            1\n",
       "75%            4.0808e+06  1.27945e+06             NaN            2\n",
       "max           4.44084e+06  3.17774e+06             NaN          500\n",
       "counts            2040286      2040286         2040286      2040286\n",
       "uniques            128710        98479              86          210\n",
       "missing                 0            0               0            0\n",
       "missing_perc           0%           0%              0%           0%\n",
       "types             numeric      numeric     categorical      numeric"
      ]
     },
     "metadata": {},
     "output_type": "display_data"
    }
   ],
   "source": [
    "from pandas_summary import DataFrameSummary\n",
    "display(DataFrameSummary(orders).summary())"
   ]
  },
  {
   "cell_type": "code",
   "execution_count": 210,
   "metadata": {},
   "outputs": [
    {
     "data": {
      "text/html": [
       "<div>\n",
       "<style scoped>\n",
       "    .dataframe tbody tr th:only-of-type {\n",
       "        vertical-align: middle;\n",
       "    }\n",
       "\n",
       "    .dataframe tbody tr th {\n",
       "        vertical-align: top;\n",
       "    }\n",
       "\n",
       "    .dataframe thead th {\n",
       "        text-align: right;\n",
       "    }\n",
       "</style>\n",
       "<table border=\"1\" class=\"dataframe\">\n",
       "  <thead>\n",
       "    <tr style=\"text-align: right;\">\n",
       "      <th></th>\n",
       "      <th>trip_id</th>\n",
       "      <th>shopper_id</th>\n",
       "      <th>fulfillment_model</th>\n",
       "      <th>store_id</th>\n",
       "      <th>shopping_started_at</th>\n",
       "      <th>shopping_ended_at</th>\n",
       "      <th>Unnamed: 6</th>\n",
       "      <th>t_time</th>\n",
       "      <th>total_q</th>\n",
       "      <th>list_items</th>\n",
       "      <th>list_dep</th>\n",
       "      <th>total_time</th>\n",
       "      <th>unique_items</th>\n",
       "    </tr>\n",
       "  </thead>\n",
       "  <tbody>\n",
       "    <tr>\n",
       "      <th>20335</th>\n",
       "      <td>3304001</td>\n",
       "      <td>46213</td>\n",
       "      <td>model_2</td>\n",
       "      <td>3</td>\n",
       "      <td>9/15/2015 13:53</td>\n",
       "      <td>9/15/2015 14:45</td>\n",
       "      <td>0:52</td>\n",
       "      <td>3120</td>\n",
       "      <td>420.0</td>\n",
       "      <td>{247571}</td>\n",
       "      <td>{Smoothie Central}</td>\n",
       "      <td>3120.0</td>\n",
       "      <td>1</td>\n",
       "    </tr>\n",
       "    <tr>\n",
       "      <th>30224</th>\n",
       "      <td>3395197</td>\n",
       "      <td>49940</td>\n",
       "      <td>model_1</td>\n",
       "      <td>3</td>\n",
       "      <td>9/21/2015 18:30</td>\n",
       "      <td>9/21/2015 19:18</td>\n",
       "      <td>0:48</td>\n",
       "      <td>2880</td>\n",
       "      <td>500.0</td>\n",
       "      <td>{977198}</td>\n",
       "      <td>{Popular}</td>\n",
       "      <td>2880.0</td>\n",
       "      <td>1</td>\n",
       "    </tr>\n",
       "  </tbody>\n",
       "</table>\n",
       "</div>"
      ],
      "text/plain": [
       "       trip_id  shopper_id fulfillment_model  store_id shopping_started_at  \\\n",
       "20335  3304001       46213           model_2         3     9/15/2015 13:53   \n",
       "30224  3395197       49940           model_1         3     9/21/2015 18:30   \n",
       "\n",
       "      shopping_ended_at Unnamed: 6  t_time  total_q list_items  \\\n",
       "20335   9/15/2015 14:45       0:52    3120    420.0   {247571}   \n",
       "30224   9/21/2015 19:18       0:48    2880    500.0   {977198}   \n",
       "\n",
       "                 list_dep  total_time  unique_items  \n",
       "20335  {Smoothie Central}      3120.0             1  \n",
       "30224           {Popular}      2880.0             1  "
      ]
     },
     "execution_count": 210,
     "metadata": {},
     "output_type": "execute_result"
    }
   ],
   "source": [
    "train[(train.total_q>400) & (train.unique_items<5)]"
   ]
  },
  {
   "cell_type": "code",
   "execution_count": 446,
   "metadata": {},
   "outputs": [
    {
     "data": {
      "text/plain": [
       "1820                          {Dairy & Eggs}\n",
       "22059                              {Popular}\n",
       "31212                              {Popular}\n",
       "32006                       {Meat & Seafood}\n",
       "32631                              {Alcohol}\n",
       "32971                               {Pantry}\n",
       "42725                       {Bakery, Frozen}\n",
       "42843                                  {Dog}\n",
       "45101                        {Personal Care}\n",
       "46128                               {Bakery}\n",
       "48189     {Thanksgiving, Beverages, Alcohol}\n",
       "51601                              {Produce}\n",
       "52643                                 {Deli}\n",
       "52840                              {Produce}\n",
       "54577                                 {Bulk}\n",
       "56145         {Dairy & Eggs, Meat & Seafood}\n",
       "57352                         {Thanksgiving}\n",
       "59786                              {Alcohol}\n",
       "64672                                  {Dog}\n",
       "64756                            {Beverages}\n",
       "65800                         {Dairy & Eggs}\n",
       "67246                        {Personal Care}\n",
       "67966                               {Bakery}\n",
       "68798                              {Alcohol}\n",
       "72003                        {Personal Care}\n",
       "74533                     {Bi-Rite Creamery}\n",
       "77603                              {Alcohol}\n",
       "84579                       {Meat & Seafood}\n",
       "86574                               {Snacks}\n",
       "88735                             {Costumes}\n",
       "90448                                 {Pets}\n",
       "95697                {Personal Care, Bakery}\n",
       "97399                        {Personal Care}\n",
       "99436                            {Beverages}\n",
       "100854                           {Household}\n",
       "101801                        {Dairy & Eggs}\n",
       "103384                                {Pets}\n",
       "106290                                {Deli}\n",
       "108539                     {Bakery, Popular}\n",
       "110689                             {Reptile}\n",
       "112962                        {Dairy & Eggs}\n",
       "114860                             {Alcohol}\n",
       "115857                                {Pets}\n",
       "Name: list_dep, dtype: object"
      ]
     },
     "execution_count": 446,
     "metadata": {},
     "output_type": "execute_result"
    }
   ],
   "source": [
    "train[(train.avg_time>2000) & (train.unique_items<5)].list_dep"
   ]
  },
  {
   "cell_type": "code",
   "execution_count": 17,
   "metadata": {},
   "outputs": [],
   "source": [
    "## Create features\n",
    "from sklearn_pandas import DataFrameMapper\n",
    "from sklearn.preprocessing import LabelEncoder, Imputer, StandardScaler"
   ]
  },
  {
   "cell_type": "code",
   "execution_count": 20,
   "metadata": {},
   "outputs": [
    {
     "data": {
      "text/plain": [
       "Index(['trip_id', 'shopper_id', 'fulfillment_model', 'store_id',\n",
       "       'shopping_started_at', 'shopping_ended_at', 'total_q', 'unique_items',\n",
       "       'total_time', 'avg_time', 'hod', 'dow', 'list_items', 'list_dep',\n",
       "       'has_alcohol', 'has_beverage', 'hourbins', 'is_busy', 'reorder_factor'],\n",
       "      dtype='object')"
      ]
     },
     "execution_count": 20,
     "metadata": {},
     "output_type": "execute_result"
    }
   ],
   "source": [
    "train.columns"
   ]
  },
  {
   "cell_type": "code",
   "execution_count": 160,
   "metadata": {},
   "outputs": [],
   "source": [
    "cat_var_dict = { 'shopper_id' : 1556, 'store_id' : 10, 'hod' : 10,'dow' : 10,\n",
    "                'fulfillment_model' : 10, 'has_alcohol' : 1, 'has_beverage' : 1, 'is_busy' : 1}\n",
    "contin_vars = ['total_q','unique_items','reorder_factor']"
   ]
  },
  {
   "cell_type": "code",
   "execution_count": 171,
   "metadata": {},
   "outputs": [
    {
     "data": {
      "text/plain": [
       "['shopper_id',\n",
       " 'fulfillment_model',\n",
       " 'hod',\n",
       " 'dow',\n",
       " 'store_id',\n",
       " 'has_beverage',\n",
       " 'has_alcohol',\n",
       " 'is_busy']"
      ]
     },
     "execution_count": 171,
     "metadata": {},
     "output_type": "execute_result"
    }
   ],
   "source": [
    "import operator\n",
    "cat_vars = [o[0] for o in sorted(cat_var_dict.items(), key=operator.itemgetter(1), reverse=True)]\n",
    "cat_vars"
   ]
  },
  {
   "cell_type": "code",
   "execution_count": 172,
   "metadata": {},
   "outputs": [],
   "source": [
    "for v in contin_vars: train.loc[train[v].isnull(), v] = 0\n",
    "for v in cat_vars: train.loc[train[v].isnull(), v] = \"\""
   ]
  },
  {
   "cell_type": "code",
   "execution_count": 173,
   "metadata": {},
   "outputs": [],
   "source": [
    "cat_maps = [(o, LabelEncoder()) for o in cat_vars]\n",
    "contin_maps = [([o], StandardScaler()) for o in contin_vars]\n"
   ]
  },
  {
   "cell_type": "code",
   "execution_count": 174,
   "metadata": {},
   "outputs": [
    {
     "data": {
      "text/plain": [
       "8"
      ]
     },
     "execution_count": 174,
     "metadata": {},
     "output_type": "execute_result"
    }
   ],
   "source": [
    "cat_mapper = DataFrameMapper(cat_maps)\n",
    "cat_map_fit = cat_mapper.fit(train)\n",
    "cat_cols = len(cat_map_fit.features)\n",
    "cat_cols"
   ]
  },
  {
   "cell_type": "code",
   "execution_count": 175,
   "metadata": {},
   "outputs": [
    {
     "name": "stderr",
     "output_type": "stream",
     "text": [
      "c:\\users\\agarg5\\appdata\\local\\continuum\\anaconda3\\envs\\tensorflow-gpu\\lib\\site-packages\\sklearn\\utils\\validation.py:475: DataConversionWarning: Data with input dtype int64 was converted to float64 by StandardScaler.\n",
      "  warnings.warn(msg, DataConversionWarning)\n"
     ]
    },
    {
     "data": {
      "text/plain": [
       "3"
      ]
     },
     "execution_count": 175,
     "metadata": {},
     "output_type": "execute_result"
    }
   ],
   "source": [
    "contin_mapper = DataFrameMapper(contin_maps)\n",
    "contin_map_fit = contin_mapper.fit(train)\n",
    "contin_cols = len(contin_map_fit.features)\n",
    "contin_cols"
   ]
  },
  {
   "cell_type": "code",
   "execution_count": 176,
   "metadata": {},
   "outputs": [
    {
     "name": "stderr",
     "output_type": "stream",
     "text": [
      "c:\\users\\agarg5\\appdata\\local\\continuum\\anaconda3\\envs\\tensorflow-gpu\\lib\\site-packages\\sklearn\\utils\\validation.py:475: DataConversionWarning: Data with input dtype int64 was converted to float64 by StandardScaler.\n",
      "  warnings.warn(msg, DataConversionWarning)\n"
     ]
    },
    {
     "data": {
      "text/plain": [
       "(array([666,   0,   0,   1,   3,   1,   0,   1], dtype=int64),\n",
       " array([ 0.5539905 ,  1.36147602, -1.03320366]))"
      ]
     },
     "execution_count": 176,
     "metadata": {},
     "output_type": "execute_result"
    }
   ],
   "source": [
    "cat_map_fit.transform(train)[0,:], contin_map_fit.transform(train)[0,:5]"
   ]
  },
  {
   "cell_type": "code",
   "execution_count": 177,
   "metadata": {},
   "outputs": [
    {
     "data": {
      "text/plain": [
       "array([0, 0, 0, 0, 0, 0, 0, 0, 1, 1, 1, 1, 1, 1, 1, 1, 1, 1, 1, 1, ..., 0,\n",
       "       0, 0, 0, 0, 0, 0, 0, 0, 0, 0, 0, 0, 0, 0, 0, 0, 0, 0, 0], dtype=int64)"
      ]
     },
     "execution_count": 177,
     "metadata": {},
     "output_type": "execute_result"
    }
   ],
   "source": [
    "cat_map_fit.transform(train)[:,1]"
   ]
  },
  {
   "cell_type": "code",
   "execution_count": 178,
   "metadata": {},
   "outputs": [
    {
     "data": {
      "text/plain": [
       "[1506, 2, 17, 7, 14, 2, 2, 2]"
      ]
     },
     "execution_count": 178,
     "metadata": {},
     "output_type": "execute_result"
    }
   ],
   "source": [
    "[len(o[1].classes_) for o in cat_map_fit.features]"
   ]
  },
  {
   "cell_type": "code",
   "execution_count": 165,
   "metadata": {},
   "outputs": [],
   "source": [
    "def cat_preproc(dat):\n",
    "    return cat_map_fit.transform(dat).astype(np.int64)\n",
    "def contin_preproc(dat):\n",
    "    return contin_map_fit.transform(dat).astype(np.float32)"
   ]
  },
  {
   "cell_type": "code",
   "execution_count": 386,
   "metadata": {},
   "outputs": [
    {
     "name": "stderr",
     "output_type": "stream",
     "text": [
      "c:\\users\\agarg5\\appdata\\local\\continuum\\anaconda3\\envs\\tensorflow-gpu\\lib\\site-packages\\sklearn\\utils\\validation.py:475: DataConversionWarning: Data with input dtype int64 was converted to float64 by StandardScaler.\n",
      "  warnings.warn(msg, DataConversionWarning)\n"
     ]
    }
   ],
   "source": [
    "X_train, X_test, y_train, y_test = train_test_split(train, train.total_time, test_size=0.2)\n",
    "cat_map_train = cat_preproc(X_train)\n",
    "cat_map_valid = cat_preproc(X_test)\n",
    "contin_map_train = contin_preproc(X_train)\n",
    "contin_map_valid = contin_preproc(X_test)"
   ]
  },
  {
   "cell_type": "code",
   "execution_count": 387,
   "metadata": {},
   "outputs": [
    {
     "data": {
      "text/plain": [
       "(93650, 8)"
      ]
     },
     "execution_count": 387,
     "metadata": {},
     "output_type": "execute_result"
    }
   ],
   "source": [
    "cat_map_train.shape"
   ]
  },
  {
   "cell_type": "code",
   "execution_count": 388,
   "metadata": {},
   "outputs": [
    {
     "data": {
      "text/plain": [
       "(93650, 11)"
      ]
     },
     "execution_count": 388,
     "metadata": {},
     "output_type": "execute_result"
    }
   ],
   "source": [
    "## for xgboost\n",
    "X_train = np.concatenate([cat_map_train, contin_map_train], axis=1)\n",
    "X_valid = np.concatenate([cat_map_valid, contin_map_valid], axis=1)\n",
    "X_train.shape"
   ]
  },
  {
   "cell_type": "code",
   "execution_count": 389,
   "metadata": {},
   "outputs": [
    {
     "data": {
      "text/plain": [
       "['fulfillment_model',\n",
       " 'shopper_id',\n",
       " 'hod',\n",
       " 'dow',\n",
       " 'store_id',\n",
       " 'has_beverage',\n",
       " 'has_alcohol',\n",
       " 'is_busy',\n",
       " 'total_q',\n",
       " 'unique_items',\n",
       " 'reorder_factor']"
      ]
     },
     "execution_count": 389,
     "metadata": {},
     "output_type": "execute_result"
    }
   ],
   "source": [
    "all_vars = cat_vars + contin_vars\n",
    "all_vars"
   ]
  },
  {
   "cell_type": "code",
   "execution_count": 390,
   "metadata": {},
   "outputs": [],
   "source": [
    "xgb_parms = {'learning_rate': 0.1, 'subsample': 0.6, \n",
    "             'colsample_bylevel': 0.6, 'silent': True, 'objective': 'reg:linear'}"
   ]
  },
  {
   "cell_type": "code",
   "execution_count": 391,
   "metadata": {},
   "outputs": [],
   "source": [
    "#xgb_parms = {'learning_rate': 0.01, 'subsample': 1,'colsample_bylevel': 1, 'silent': True, 'objective': 'reg:linear'}"
   ]
  },
  {
   "cell_type": "code",
   "execution_count": 392,
   "metadata": {},
   "outputs": [],
   "source": [
    "xdata = xgb.DMatrix(X_train, y_train, feature_names=all_vars)\n",
    "xdata_val = xgb.DMatrix(X_valid, y_test, feature_names=all_vars)"
   ]
  },
  {
   "cell_type": "code",
   "execution_count": 393,
   "metadata": {},
   "outputs": [],
   "source": [
    "## this is without feature engg\n",
    "xgb_parms['seed'] = np.random.randint(0,1e9)\n",
    "model = xgb.train(xgb_parms, xdata,1000)"
   ]
  },
  {
   "cell_type": "code",
   "execution_count": 398,
   "metadata": {},
   "outputs": [
    {
     "data": {
      "text/plain": [
       "(b'[0]\\teval-rmse:1074.483154', b'[0]\\teval-rmse:883.437134')"
      ]
     },
     "execution_count": 398,
     "metadata": {},
     "output_type": "execute_result"
    }
   ],
   "source": [
    "model.eval(xdata_val),model.eval(xdata)"
   ]
  },
  {
   "cell_type": "code",
   "execution_count": 395,
   "metadata": {},
   "outputs": [
    {
     "data": {
      "text/plain": [
       "(23413, 23413)"
      ]
     },
     "execution_count": 395,
     "metadata": {},
     "output_type": "execute_result"
    }
   ],
   "source": [
    "len(X_valid),len(y_test)"
   ]
  },
  {
   "cell_type": "markdown",
   "metadata": {},
   "source": [
    "# NN"
   ]
  },
  {
   "cell_type": "code",
   "execution_count": 18,
   "metadata": {},
   "outputs": [
    {
     "name": "stderr",
     "output_type": "stream",
     "text": [
      "Using TensorFlow backend.\n"
     ]
    }
   ],
   "source": [
    "import keras\n",
    "from keras.models import Model, Sequential\n",
    "from keras.layers import *\n",
    "from keras import initializers\n"
   ]
  },
  {
   "cell_type": "code",
   "execution_count": null,
   "metadata": {},
   "outputs": [],
   "source": [
    "def cat_preproc(dat):\n",
    "    return cat_map_fit.transform(dat).astype(np.int64)\n",
    "def contin_preproc(dat):\n",
    "    return contin_map_fit.transform(dat).astype(np.float32)\n",
    "def split_cols(arr): return np.hsplit(arr,arr.shape[1])"
   ]
  },
  {
   "cell_type": "code",
   "execution_count": 281,
   "metadata": {},
   "outputs": [
    {
     "name": "stderr",
     "output_type": "stream",
     "text": [
      "c:\\users\\agarg5\\appdata\\local\\continuum\\anaconda3\\envs\\tensorflow-gpu\\lib\\site-packages\\sklearn\\utils\\validation.py:475: DataConversionWarning: Data with input dtype int64 was converted to float64 by StandardScaler.\n",
      "  warnings.warn(msg, DataConversionWarning)\n"
     ]
    },
    {
     "data": {
      "text/plain": [
       "(11, 93650, 1)"
      ]
     },
     "execution_count": 281,
     "metadata": {},
     "output_type": "execute_result"
    }
   ],
   "source": [
    "cat_var_dict = { 'shopper_id' : 10, 'store_id' : 10, 'hod' : 10,'dow' : 10,\n",
    "                'fulfillment_model' : 10, 'has_alcohol' : 1, 'has_beverage' : 1, 'is_busy' : 1}\n",
    "contin_vars = ['total_q','unique_items','reorder_factor']\n",
    "\n",
    "#cat_var_dict = { 'shopper_id' : 1556, 'store_id' : 10, 'hod' : 10,'dow' : 10,'fulfillment_model' : 10, 'has_alcohol' : 1, 'has_beverage' : 1, 'is_busy' : 1}\n",
    "#contin_vars = ['total_q','unique_items','reorder_factor']\n",
    "\n",
    "cat_vars = [o[0] for o in sorted(cat_var_dict.items(), key=operator.itemgetter(1), reverse=True)]\n",
    "for v in contin_vars: train.loc[train[v].isnull(), v] = 0\n",
    "for v in cat_vars: train.loc[train[v].isnull(), v] = \"\"\n",
    "\n",
    "cat_maps = [(o, LabelEncoder()) for o in cat_vars]\n",
    "contin_maps = [([o], StandardScaler()) for o in contin_vars]\n",
    "\n",
    "cat_mapper = DataFrameMapper(cat_maps)\n",
    "cat_map_fit = cat_mapper.fit(train)\n",
    "cat_cols = len(cat_map_fit.features)\n",
    "\n",
    "contin_mapper = DataFrameMapper(contin_maps)\n",
    "contin_map_fit = contin_mapper.fit(train)\n",
    "contin_cols = len(contin_map_fit.features)\n",
    "\n",
    "\n",
    "X_train, X_test, y_train, y_test = train_test_split(train, train.total_time, test_size=0.2)\n",
    "cat_map_train = cat_preproc(X_train)\n",
    "cat_map_valid = cat_preproc(X_test)\n",
    "contin_map_train = contin_preproc(X_train)\n",
    "contin_map_valid = contin_preproc(X_test)\n",
    "\n",
    "map_train = split_cols(cat_map_train) + split_cols(contin_map_train)\n",
    "map_valid = split_cols(cat_map_valid) + split_cols(contin_map_valid)\n",
    "np.shape(map_train)"
   ]
  },
  {
   "cell_type": "code",
   "execution_count": 145,
   "metadata": {},
   "outputs": [],
   "source": [
    "map_train2 = np.reshape(map_train,(78432,11))"
   ]
  },
  {
   "cell_type": "code",
   "execution_count": 41,
   "metadata": {},
   "outputs": [
    {
     "data": {
      "text/plain": [
       "array([[151],\n",
       "       [304],\n",
       "       [510],\n",
       "       ..., \n",
       "       [502],\n",
       "       [675],\n",
       "       [319]], dtype=int64)"
      ]
     },
     "execution_count": 41,
     "metadata": {},
     "output_type": "execute_result"
    }
   ],
   "source": [
    "map_train[0]"
   ]
  },
  {
   "cell_type": "code",
   "execution_count": 54,
   "metadata": {},
   "outputs": [
    {
     "data": {
      "text/plain": [
       "DataFrameMapper(default=False, df_out=False,\n",
       "        features=[(['total_q'], StandardScaler(copy=True, with_mean=True, with_std=True)), (['unique_items'], StandardScaler(copy=True, with_mean=True, with_std=True)), (['reorder_factor'], StandardScaler(copy=True, with_mean=True, with_std=True))],\n",
       "        input_df=False, sparse=False)"
      ]
     },
     "execution_count": 54,
     "metadata": {},
     "output_type": "execute_result"
    }
   ],
   "source": [
    "contin_map_fit"
   ]
  },
  {
   "cell_type": "code",
   "execution_count": 249,
   "metadata": {},
   "outputs": [],
   "source": [
    "def my_init(scale):\n",
    "    return lambda shape, name=None: initializers.uniform(shape, scale=scale, name=name)"
   ]
  },
  {
   "cell_type": "code",
   "execution_count": 250,
   "metadata": {},
   "outputs": [],
   "source": [
    "def emb_init(shape, name=None): \n",
    "    return initializers.uniform(shape, scale=2/(shape[1]+1), name=name)"
   ]
  },
  {
   "cell_type": "code",
   "execution_count": 43,
   "metadata": {},
   "outputs": [],
   "source": [
    "def cat_map_info(feat): return feat[0], len(feat[1].classes_)"
   ]
  },
  {
   "cell_type": "code",
   "execution_count": 180,
   "metadata": {},
   "outputs": [
    {
     "data": {
      "text/plain": [
       "('fulfillment_model', 2)"
      ]
     },
     "execution_count": 180,
     "metadata": {},
     "output_type": "execute_result"
    }
   ],
   "source": [
    "cat_map_info(cat_map_fit.features[1])"
   ]
  },
  {
   "cell_type": "code",
   "execution_count": 183,
   "metadata": {},
   "outputs": [
    {
     "data": {
      "text/plain": [
       "[(<tf.Tensor 'total_q_in_4:0' shape=(?, 1) dtype=float32>,\n",
       "  <tf.Tensor 'total_q_d_4/BiasAdd:0' shape=(?, 1) dtype=float32>),\n",
       " (<tf.Tensor 'unique_items_in_4:0' shape=(?, 1) dtype=float32>,\n",
       "  <tf.Tensor 'unique_items_d_4/BiasAdd:0' shape=(?, 1) dtype=float32>),\n",
       " (<tf.Tensor 'reorder_factor_in_1:0' shape=(?, 1) dtype=float32>,\n",
       "  <tf.Tensor 'reorder_factor_d_1/BiasAdd:0' shape=(?, 1) dtype=float32>)]"
      ]
     },
     "execution_count": 183,
     "metadata": {},
     "output_type": "execute_result"
    }
   ],
   "source": [
    "conts = [get_contin(feat) for feat in contin_map_fit.features]\n",
    "conts"
   ]
  },
  {
   "cell_type": "code",
   "execution_count": 282,
   "metadata": {},
   "outputs": [],
   "source": [
    "def get_emb(feat):\n",
    "    name, c = cat_map_info(feat)\n",
    "    c2 = cat_var_dict[name]\n",
    "    #c2 = (c+1)//2\n",
    "    #if c2>50: c2=50\n",
    "    inp = Input((1,), dtype='int64', name=name+'_in')\n",
    "    # , W_regularizer=l2(1e-6)\n",
    " #   u = Flatten(name=name+'_flt')(Embedding(c, c2, input_length=1, init=emb_init)(inp))\n",
    "    u = Flatten(name=name+'_flt')(Embedding(c, c2, input_length=1,embeddings_initializer='uniform')(inp))\n",
    "    return inp,u"
   ]
  },
  {
   "cell_type": "code",
   "execution_count": 283,
   "metadata": {},
   "outputs": [],
   "source": [
    "def get_contin(feat):\n",
    "    name = feat[0][0]\n",
    "    inp = Input((1,), name=name+'_in')\n",
    "    #return inp, Dense(1, name=name+'_d', init=my_init(1.))(inp)\n",
    "    return inp, Dense(1, name=name+'_d',kernel_initializer='random_uniform')(inp)"
   ]
  },
  {
   "cell_type": "code",
   "execution_count": 186,
   "metadata": {},
   "outputs": [],
   "source": [
    "contin_inp = Input((contin_cols,), name='contin')\n",
    "contin_out = Dense(contin_cols*10, activation='relu', name='contin_d')(contin_inp)\n",
    "#contin_out = BatchNormalization()(contin_out)"
   ]
  },
  {
   "cell_type": "code",
   "execution_count": 334,
   "metadata": {},
   "outputs": [],
   "source": [
    "from keras import metrics\n",
    "embs = [get_emb(feat) for feat in cat_map_fit.features]\n",
    "conts = [get_contin(feat) for feat in contin_map_fit.features]\n",
    "contin_d = [d for inp,d in conts]\n",
    "#x = merge([emb for inp,emb in embs] + [contin_out], mode='concat')\n",
    "#x = merge([emb for inp,emb in embs] + contin_d, mode='concat')\n",
    "x = concatenate([emb for inp,emb in embs] + contin_d)\n",
    "\n",
    "x = Dropout(0.02)(x)\n",
    "x = Dense(1000, activation=\"relu\", kernel_initializer=\"uniform\")(x)\n",
    "x = Dense(10, activation=\"relu\", kernel_initializer=\"uniform\")(x)\n",
    "x = Dense(500, activation=\"relu\", kernel_initializer=\"uniform\")(x)\n",
    "x = Dropout(0.2)(x)\n",
    "#x = Dense(1, activation='sigmoid')(x)\n",
    "x = Dense(1,)(x)\n",
    "\n",
    "#model = Model([inp for inp,emb in embs] + [contin_inp], x)\n",
    "model = Model([inp for inp,emb in embs] + [inp for inp,d in conts], x)\n",
    "model.compile('adam',loss='mean_absolute_error')\n",
    "#model.compile('RMSprop', 'mean_absolute_error',metrics=['accuracy'])\n",
    "#model.compile(Adam(), 'mse')"
   ]
  },
  {
   "cell_type": "code",
   "execution_count": 336,
   "metadata": {},
   "outputs": [
    {
     "name": "stdout",
     "output_type": "stream",
     "text": [
      "Train on 93650 samples, validate on 23413 samples\n",
      "Epoch 1/100\n",
      " - 2s - loss: 761.6768 - val_loss: 772.2603\n",
      "Epoch 2/100\n",
      " - 2s - loss: 759.4672 - val_loss: 772.9330\n",
      "Epoch 3/100\n",
      " - 2s - loss: 758.5626 - val_loss: 771.1347\n",
      "Epoch 4/100\n",
      " - 2s - loss: 756.7625 - val_loss: 771.6765\n",
      "Epoch 5/100\n",
      " - 2s - loss: 755.5675 - val_loss: 773.0298\n",
      "Epoch 6/100\n",
      " - 2s - loss: 755.0407 - val_loss: 771.5717\n",
      "Epoch 7/100\n",
      " - 2s - loss: 753.9554 - val_loss: 771.7627\n",
      "Epoch 8/100\n",
      " - 2s - loss: 752.2332 - val_loss: 770.1176\n",
      "Epoch 9/100\n",
      " - 2s - loss: 750.5799 - val_loss: 770.9118\n",
      "Epoch 10/100\n",
      " - 2s - loss: 750.7298 - val_loss: 771.2828\n",
      "Epoch 11/100\n",
      " - 2s - loss: 748.9046 - val_loss: 770.7555\n",
      "Epoch 12/100\n",
      " - 2s - loss: 747.6667 - val_loss: 770.5024\n",
      "Epoch 13/100\n",
      " - 2s - loss: 747.1106 - val_loss: 771.4863\n",
      "Epoch 14/100\n",
      " - 2s - loss: 746.6612 - val_loss: 770.0438\n",
      "Epoch 15/100\n",
      " - 2s - loss: 746.1140 - val_loss: 771.2295\n",
      "Epoch 16/100\n",
      " - 2s - loss: 744.7215 - val_loss: 770.5667\n",
      "Epoch 17/100\n",
      " - 2s - loss: 743.9465 - val_loss: 770.4306\n",
      "Epoch 18/100\n",
      " - 2s - loss: 743.6789 - val_loss: 770.8589\n",
      "Epoch 19/100\n",
      " - 2s - loss: 741.6804 - val_loss: 770.5548\n",
      "Epoch 20/100\n",
      " - 2s - loss: 740.9235 - val_loss: 770.2069\n",
      "Epoch 21/100\n",
      " - 2s - loss: 740.6749 - val_loss: 770.5805\n",
      "Epoch 22/100\n",
      " - 2s - loss: 740.7298 - val_loss: 770.1409\n",
      "Epoch 23/100\n",
      " - 2s - loss: 739.3788 - val_loss: 771.0607\n",
      "Epoch 24/100\n",
      " - 2s - loss: 738.1313 - val_loss: 772.9052\n",
      "Epoch 25/100\n",
      " - 2s - loss: 738.4522 - val_loss: 769.8493\n",
      "Epoch 26/100\n",
      " - 2s - loss: 737.5073 - val_loss: 770.5109\n",
      "Epoch 27/100\n",
      " - 2s - loss: 735.8758 - val_loss: 769.8719\n",
      "Epoch 28/100\n",
      " - 2s - loss: 736.4054 - val_loss: 768.9375\n",
      "Epoch 29/100\n",
      " - 2s - loss: 735.2167 - val_loss: 770.0123\n",
      "Epoch 30/100\n",
      " - 2s - loss: 733.6737 - val_loss: 769.1661\n",
      "Epoch 31/100\n",
      " - 2s - loss: 733.4541 - val_loss: 770.4316\n",
      "Epoch 32/100\n",
      " - 2s - loss: 733.6357 - val_loss: 769.8180\n",
      "Epoch 33/100\n",
      " - 2s - loss: 732.7178 - val_loss: 769.8349\n",
      "Epoch 34/100\n",
      " - 2s - loss: 734.1899 - val_loss: 770.8231\n",
      "Epoch 35/100\n",
      " - 2s - loss: 733.6426 - val_loss: 769.6079\n",
      "Epoch 36/100\n",
      " - 2s - loss: 732.1532 - val_loss: 770.3877\n",
      "Epoch 37/100\n",
      " - 2s - loss: 731.6904 - val_loss: 771.5321\n",
      "Epoch 38/100\n",
      " - 2s - loss: 732.7093 - val_loss: 770.8457\n",
      "Epoch 39/100\n",
      " - 2s - loss: 731.0497 - val_loss: 771.5115\n",
      "Epoch 40/100\n",
      " - 2s - loss: 730.6876 - val_loss: 771.2197\n",
      "Epoch 41/100\n",
      " - 2s - loss: 730.6707 - val_loss: 769.4842\n",
      "Epoch 42/100\n",
      " - 2s - loss: 731.2027 - val_loss: 770.3462\n",
      "Epoch 43/100\n",
      " - 2s - loss: 730.2730 - val_loss: 770.0097\n",
      "Epoch 44/100\n",
      " - 2s - loss: 729.4548 - val_loss: 769.9486\n",
      "Epoch 45/100\n",
      " - 2s - loss: 728.1107 - val_loss: 770.0849\n",
      "Epoch 46/100\n",
      " - 2s - loss: 729.1504 - val_loss: 769.9193\n",
      "Epoch 47/100\n",
      " - 2s - loss: 728.2679 - val_loss: 774.1055\n",
      "Epoch 48/100\n",
      " - 2s - loss: 728.6298 - val_loss: 770.9124\n",
      "Epoch 49/100\n",
      " - 2s - loss: 728.2053 - val_loss: 771.1722\n",
      "Epoch 50/100\n",
      " - 2s - loss: 727.4170 - val_loss: 770.4006\n",
      "Epoch 51/100\n",
      " - 2s - loss: 727.9432 - val_loss: 770.0746\n",
      "Epoch 52/100\n",
      " - 2s - loss: 727.3983 - val_loss: 771.4484\n",
      "Epoch 53/100\n",
      " - 2s - loss: 727.4487 - val_loss: 771.2115\n",
      "Epoch 54/100\n",
      " - 2s - loss: 726.5928 - val_loss: 770.9139\n",
      "Epoch 55/100\n",
      " - 2s - loss: 727.1279 - val_loss: 771.6565\n",
      "Epoch 56/100\n",
      " - 2s - loss: 726.2859 - val_loss: 770.7529\n",
      "Epoch 57/100\n",
      " - 2s - loss: 726.1756 - val_loss: 770.3227\n",
      "Epoch 58/100\n",
      " - 2s - loss: 723.7687 - val_loss: 770.7951\n",
      "Epoch 59/100\n",
      " - 2s - loss: 725.0962 - val_loss: 771.9509\n",
      "Epoch 60/100\n",
      " - 2s - loss: 724.6890 - val_loss: 770.5765\n",
      "Epoch 61/100\n",
      " - 2s - loss: 722.8192 - val_loss: 771.9975\n",
      "Epoch 62/100\n",
      " - 2s - loss: 723.3652 - val_loss: 771.1947\n",
      "Epoch 63/100\n",
      " - 2s - loss: 722.8800 - val_loss: 771.5119\n",
      "Epoch 64/100\n",
      " - 2s - loss: 723.2373 - val_loss: 772.4699\n",
      "Epoch 65/100\n",
      " - 2s - loss: 721.0324 - val_loss: 771.6313\n",
      "Epoch 66/100\n",
      " - 2s - loss: 721.3499 - val_loss: 771.4637\n",
      "Epoch 67/100\n",
      " - 2s - loss: 721.6761 - val_loss: 773.7595\n",
      "Epoch 68/100\n",
      " - 2s - loss: 720.9729 - val_loss: 771.5612\n",
      "Epoch 69/100\n",
      " - 2s - loss: 720.9603 - val_loss: 771.7943\n",
      "Epoch 70/100\n",
      " - 2s - loss: 720.7338 - val_loss: 771.1381\n",
      "Epoch 71/100\n",
      " - 2s - loss: 719.4285 - val_loss: 772.4703\n",
      "Epoch 72/100\n",
      " - 2s - loss: 719.2989 - val_loss: 771.2841\n",
      "Epoch 73/100\n",
      " - 2s - loss: 718.7996 - val_loss: 773.3906\n",
      "Epoch 74/100\n",
      " - 2s - loss: 718.3807 - val_loss: 772.0131\n",
      "Epoch 75/100\n",
      " - 2s - loss: 717.8229 - val_loss: 771.3956\n",
      "Epoch 76/100\n",
      " - 2s - loss: 718.0422 - val_loss: 775.8403\n",
      "Epoch 77/100\n",
      " - 2s - loss: 716.9703 - val_loss: 773.4106\n",
      "Epoch 78/100\n",
      " - 2s - loss: 716.9073 - val_loss: 773.1024\n",
      "Epoch 79/100\n",
      " - 2s - loss: 715.6440 - val_loss: 772.7116\n",
      "Epoch 80/100\n",
      " - 2s - loss: 715.8345 - val_loss: 773.1298\n",
      "Epoch 81/100\n",
      " - 2s - loss: 715.3255 - val_loss: 772.0247\n",
      "Epoch 82/100\n",
      " - 2s - loss: 714.7401 - val_loss: 773.4070\n",
      "Epoch 83/100\n",
      " - 2s - loss: 715.1692 - val_loss: 772.1999\n",
      "Epoch 84/100\n",
      " - 2s - loss: 714.3549 - val_loss: 773.1037\n",
      "Epoch 85/100\n",
      " - 2s - loss: 713.4266 - val_loss: 772.2689\n",
      "Epoch 86/100\n",
      " - 2s - loss: 713.5995 - val_loss: 772.2910\n",
      "Epoch 87/100\n",
      " - 2s - loss: 713.7567 - val_loss: 774.6447\n",
      "Epoch 88/100\n",
      " - 2s - loss: 712.9824 - val_loss: 773.6344\n",
      "Epoch 89/100\n",
      " - 2s - loss: 710.9606 - val_loss: 773.3632\n",
      "Epoch 90/100\n",
      " - 2s - loss: 711.8310 - val_loss: 774.1334\n",
      "Epoch 91/100\n",
      " - 2s - loss: 710.5341 - val_loss: 774.7500\n",
      "Epoch 92/100\n",
      " - 2s - loss: 709.9388 - val_loss: 776.0671\n",
      "Epoch 93/100\n",
      " - 2s - loss: 709.4412 - val_loss: 775.6717\n",
      "Epoch 94/100\n",
      " - 2s - loss: 709.3972 - val_loss: 775.8858\n",
      "Epoch 95/100\n",
      " - 2s - loss: 708.0421 - val_loss: 774.5980\n",
      "Epoch 96/100\n",
      " - 2s - loss: 708.0900 - val_loss: 775.4254\n",
      "Epoch 97/100\n",
      " - 2s - loss: 707.5830 - val_loss: 775.7648\n",
      "Epoch 98/100\n",
      " - 2s - loss: 705.6951 - val_loss: 774.4417\n",
      "Epoch 99/100\n",
      " - 2s - loss: 706.2201 - val_loss: 777.4039\n",
      "Epoch 100/100\n",
      " - 2s - loss: 706.3461 - val_loss: 775.5961\n",
      "Wall time: 2min 54s\n"
     ]
    }
   ],
   "source": [
    "%%time \n",
    "hist = model.fit(map_train, y_train, batch_size=1024, epochs=100,verbose=2, validation_data=(map_valid, y_test))\n",
    "#hist = model.fit(map_train, y_train, batch_size=1024, epochs=25,verbose=2)"
   ]
  },
  {
   "cell_type": "code",
   "execution_count": 337,
   "metadata": {},
   "outputs": [
    {
     "data": {
      "image/png": "[encoded data removed]",
      "text/plain": [
       "<matplotlib.figure.Figure at 0x28f75961860>"
      ]
     },
     "metadata": {},
     "output_type": "display_data"
    }
   ],
   "source": [
    "plot_train(hist,1)"
   ]
  },
  {
   "cell_type": "code",
   "execution_count": 135,
   "metadata": {},
   "outputs": [],
   "source": [
    "import importlib\n",
    "import utils2; importlib.reload(utils2)\n",
    "from utils2 import *"
   ]
  },
  {
   "cell_type": "code",
   "execution_count": 235,
   "metadata": {},
   "outputs": [
    {
     "ename": "ImportError",
     "evalue": "`save_weights` requires h5py.",
     "output_type": "error",
     "traceback": [
      "\u001b[1;31m---------------------------------------------------------------------------\u001b[0m",
      "\u001b[1;31mImportError\u001b[0m                               Traceback (most recent call last)",
      "\u001b[1;32m<ipython-input-235-53fd04ac1cce>\u001b[0m in \u001b[0;36m<module>\u001b[1;34m()\u001b[0m\n\u001b[0;32m      1\u001b[0m \u001b[1;32mimport\u001b[0m \u001b[0mh5py\u001b[0m\u001b[1;33m\u001b[0m\u001b[0m\n\u001b[1;32m----> 2\u001b[1;33m \u001b[0mmodel\u001b[0m\u001b[1;33m.\u001b[0m\u001b[0msave_weights\u001b[0m\u001b[1;33m(\u001b[0m\u001b[1;34m'nn_718.h5'\u001b[0m\u001b[1;33m)\u001b[0m\u001b[1;33m\u001b[0m\u001b[0m\n\u001b[0m",
      "\u001b[1;32mc:\\users\\agarg5\\appdata\\local\\continuum\\anaconda3\\envs\\tensorflow-gpu\\lib\\site-packages\\keras\\engine\\topology.py\u001b[0m in \u001b[0;36msave_weights\u001b[1;34m(self, filepath, overwrite)\u001b[0m\n\u001b[0;32m   2595\u001b[0m         \"\"\"\n\u001b[0;32m   2596\u001b[0m         \u001b[1;32mif\u001b[0m \u001b[0mh5py\u001b[0m \u001b[1;32mis\u001b[0m \u001b[1;32mNone\u001b[0m\u001b[1;33m:\u001b[0m\u001b[1;33m\u001b[0m\u001b[0m\n\u001b[1;32m-> 2597\u001b[1;33m             \u001b[1;32mraise\u001b[0m \u001b[0mImportError\u001b[0m\u001b[1;33m(\u001b[0m\u001b[1;34m'`save_weights` requires h5py.'\u001b[0m\u001b[1;33m)\u001b[0m\u001b[1;33m\u001b[0m\u001b[0m\n\u001b[0m\u001b[0;32m   2598\u001b[0m         \u001b[1;31m# If file exists and should not be overwritten:\u001b[0m\u001b[1;33m\u001b[0m\u001b[1;33m\u001b[0m\u001b[0m\n\u001b[0;32m   2599\u001b[0m         \u001b[1;32mif\u001b[0m \u001b[1;32mnot\u001b[0m \u001b[0moverwrite\u001b[0m \u001b[1;32mand\u001b[0m \u001b[0mos\u001b[0m\u001b[1;33m.\u001b[0m\u001b[0mpath\u001b[0m\u001b[1;33m.\u001b[0m\u001b[0misfile\u001b[0m\u001b[1;33m(\u001b[0m\u001b[0mfilepath\u001b[0m\u001b[1;33m)\u001b[0m\u001b[1;33m:\u001b[0m\u001b[1;33m\u001b[0m\u001b[0m\n",
      "\u001b[1;31mImportError\u001b[0m: `save_weights` requires h5py."
     ]
    }
   ],
   "source": [
    "from keras.models import load_model\n",
    "model.save_weights('nn_718.h5')"
   ]
  },
  {
   "cell_type": "code",
   "execution_count": 257,
   "metadata": {},
   "outputs": [
    {
     "data": {
      "text/plain": [
       "790.52588801121749"
      ]
     },
     "execution_count": 257,
     "metadata": {},
     "output_type": "execute_result"
    }
   ],
   "source": [
    "predictions = model.predict(map_train)\n",
    "mean_absolute_error(y_train,predictions),rmse(y_train,predictions)"
   ]
  },
  {
   "cell_type": "code",
   "execution_count": 278,
   "metadata": {},
   "outputs": [
    {
     "data": {
      "text/plain": [
       "803.96187436084233"
      ]
     },
     "execution_count": 278,
     "metadata": {},
     "output_type": "execute_result"
    }
   ],
   "source": [
    "predictions = model.predict(map_valid)\n",
    "mean_absolute_error(y_test,predictions)"
   ]
  },
  {
   "cell_type": "code",
   "execution_count": 61,
   "metadata": {},
   "outputs": [
    {
     "data": {
      "text/plain": [
       "{'dow vs time': 0.038702353841445866,\n",
       " 'has_alcohol vs time': 0.012319873356239242,\n",
       " 'has_beverage vs time': 0.14117735738920922,\n",
       " 'hod vs time': -0.022966896686758817,\n",
       " 'is_busy vs time': 0.062973090103638801,\n",
       " 'reorder_factor vs time': -0.021780563613276412,\n",
       " 'shopper_id vs time': 0.056359415200679136,\n",
       " 'store_id vs time': -0.058614691067299572,\n",
       " 'total_q vs time': 0.39468737857154607,\n",
       " 'unique_items vs time': 0.48841997825192002}"
      ]
     },
     "execution_count": 61,
     "metadata": {},
     "output_type": "execute_result"
    }
   ],
   "source": [
    "## calc pearson correlation\n",
    "f_to_use = ['total_q','unique_items','shopper_id','hod','dow','store_id','has_alcohol','has_beverage','reorder_factor','is_busy']\n",
    "## check co-relations with time\n",
    "corr = {}\n",
    "for f in f_to_use:\n",
    "    key = f + ' vs time'\n",
    "    corr[key] = pearsonr(train[f],train.total_time)[0]\n",
    "corr"
   ]
  },
  {
   "cell_type": "code",
   "execution_count": 399,
   "metadata": {},
   "outputs": [
    {
     "data": {
      "text/plain": [
       "(93650, 23413)"
      ]
     },
     "execution_count": 399,
     "metadata": {},
     "output_type": "execute_result"
    }
   ],
   "source": [
    "## Linear Regression \n",
    "#X = train.total_q.values.reshape(-1,1)\n",
    "X = train[f_to_use]\n",
    "y = train.total_time\n",
    "X_train, X_test, y_train, y_test = train_test_split(X, y, test_size=0.2)\n",
    "len(X_train),len(X_test)"
   ]
  },
  {
   "cell_type": "code",
   "execution_count": 400,
   "metadata": {},
   "outputs": [
    {
     "data": {
      "text/plain": [
       "LinearRegression(copy_X=True, fit_intercept=True, n_jobs=1, normalize=False)"
      ]
     },
     "execution_count": 400,
     "metadata": {},
     "output_type": "execute_result"
    }
   ],
   "source": [
    "regr = LinearRegression()\n",
    "regr.fit(X_train,y_train)"
   ]
  },
  {
   "cell_type": "code",
   "execution_count": 401,
   "metadata": {},
   "outputs": [
    {
     "data": {
      "text/plain": [
       "(0.28624044352788047, 881.44190271799016, 0.28687434030584591)"
      ]
     },
     "execution_count": 401,
     "metadata": {},
     "output_type": "execute_result"
    }
   ],
   "source": [
    "# evaluate predictions\n",
    "y_predict = regr.predict(X_train)\n",
    "regr.score(X_test,y_test),mean_absolute_error(y_train, y_predict),r2_score(y_train, y_predict)"
   ]
  },
  {
   "cell_type": "code",
   "execution_count": 402,
   "metadata": {},
   "outputs": [
    {
     "data": {
      "text/plain": [
       "XGBRegressor(base_score=0.5, colsample_bylevel=1, colsample_bytree=1, gamma=0,\n",
       "       learning_rate=0.08, max_delta_step=0, max_depth=7,\n",
       "       min_child_weight=1, missing=None, n_estimators=100, nthread=-1,\n",
       "       objective='reg:linear', reg_alpha=0, reg_lambda=1,\n",
       "       scale_pos_weight=1, seed=0, silent=True, subsample=0.75)"
      ]
     },
     "execution_count": 402,
     "metadata": {},
     "output_type": "execute_result"
    }
   ],
   "source": [
    "## XGB regression\n",
    "model = xgb.XGBRegressor(n_estimators=100, learning_rate=0.08, gamma=0, subsample=0.75,colsample_bytree=1, max_depth=7)\n",
    "#model = xgb.XGBRegressor(silent=1)\n",
    "model.fit(X_train,y_train)"
   ]
  },
  {
   "cell_type": "code",
   "execution_count": 403,
   "metadata": {},
   "outputs": [
    {
     "name": "stdout",
     "output_type": "stream",
     "text": [
      "-0.590210332478\n"
     ]
    }
   ],
   "source": [
    "from sklearn.metrics import explained_variance_score\n",
    "predictions = model.predict(X_test)\n",
    "print(explained_variance_score(predictions,y_test))\n"
   ]
  },
  {
   "cell_type": "code",
   "execution_count": 404,
   "metadata": {},
   "outputs": [
    {
     "name": "stdout",
     "output_type": "stream",
     "text": [
      "1097.72532451\n"
     ]
    }
   ],
   "source": [
    "def rmse(predictions, targets):\n",
    "    return np.sqrt(((predictions - targets) ** 2).mean())\n",
    "print(rmse(predictions,y_test))"
   ]
  },
  {
   "cell_type": "code",
   "execution_count": 407,
   "metadata": {},
   "outputs": [
    {
     "data": {
      "text/plain": [
       "<matplotlib.axes._subplots.AxesSubplot at 0x28f7fc29048>"
      ]
     },
     "execution_count": 407,
     "metadata": {},
     "output_type": "execute_result"
    },
    {
     "data": {
      "image/png": "[encoded data removed]",
      "text/plain": [
       "<matplotlib.figure.Figure at 0x28f7fc2b780>"
      ]
     },
     "metadata": {},
     "output_type": "display_data"
    }
   ],
   "source": [
    "xgb.plot_importance(model)"
   ]
  },
  {
   "cell_type": "code",
   "execution_count": null,
   "metadata": {},
   "outputs": [],
   "source": []
  },
  {
   "cell_type": "code",
   "execution_count": 410,
   "metadata": {},
   "outputs": [],
   "source": [
    "## xgboost\n",
    "xgb_parms = {'learning_rate': 0.1, 'subsample': 0.6, \n",
    "             'colsample_bylevel': 0.6, 'silent': True, 'objective': 'reg:linear'}\n",
    "xdata = xgb.DMatrix(X_train, y_train, feature_names=f_to_use)\n",
    "xdata_val = xgb.DMatrix(X_test, y_test, feature_names=f_to_use)\n"
   ]
  },
  {
   "cell_type": "code",
   "execution_count": 414,
   "metadata": {},
   "outputs": [],
   "source": [
    "model = xgb.train(xgb_parms, xdata,1000)"
   ]
  },
  {
   "cell_type": "code",
   "execution_count": 415,
   "metadata": {},
   "outputs": [
    {
     "data": {
      "text/plain": [
       "b'[0]\\teval-rmse:1077.515625'"
      ]
     },
     "execution_count": 415,
     "metadata": {},
     "output_type": "execute_result"
    }
   ],
   "source": [
    "model.eval(xdata_val)"
   ]
  },
  {
   "cell_type": "code",
   "execution_count": 416,
   "metadata": {},
   "outputs": [
    {
     "data": {
      "image/png": "[encoded data removed]",
      "text/plain": [
       "<matplotlib.figure.Figure at 0x28f8481ec50>"
      ]
     },
     "metadata": {},
     "output_type": "display_data"
    }
   ],
   "source": [
    "importance = model.get_fscore()\n",
    "importance = sorted(importance.items(), key=operator.itemgetter(1))\n",
    "\n",
    "df = pd.DataFrame(importance, columns=['feature', 'fscore'])\n",
    "df['fscore'] = df['fscore'] / df['fscore'].sum()\n",
    "\n",
    "df.plot(kind='barh', x='feature', y='fscore', legend=False, figsize=(6, 10))\n",
    "plt.title('XGBoost Feature Importance')\n",
    "plt.xlabel('relative importance');"
   ]
  },
  {
   "cell_type": "code",
   "execution_count": 181,
   "metadata": {},
   "outputs": [],
   "source": [
    "import winsound\n",
    "frequency = 2500  # Set Frequency To 2500 Hertz\n",
    "duration = 100  # Set Duration To 1000 ms == 1 second\n",
    "winsound.Beep(frequency, duration)"
   ]
  },
  {
   "cell_type": "code",
   "execution_count": null,
   "metadata": {},
   "outputs": [],
   "source": [
    "## Submissions ( for syntax purposes only )\n",
    "sub = pd.DataFrame(columns=['trip_id','shopping_time'])\n",
    "idx = 0\n",
    "for id in test.trip_id:\n",
    "    b = regr.predict(id)\n",
    "    v = \" \".join(map(str, b))\n",
    "    sub = sub.append({'trip_id':test.iloc[idx,0],'shopping_time':v},ignore_index=True)\n",
    "    idx += 1\n",
    "1"
   ]
  },
  {
   "cell_type": "code",
   "execution_count": null,
   "metadata": {},
   "outputs": [],
   "source": [
    "sub = pd.DataFram()\n",
    "inp = test.trip_id\n",
    "out = regr"
   ]
  },
  {
   "cell_type": "code",
   "execution_count": 282,
   "metadata": {},
   "outputs": [
    {
     "data": {
      "text/html": [
       "<div>\n",
       "<style scoped>\n",
       "    .dataframe tbody tr th:only-of-type {\n",
       "        vertical-align: middle;\n",
       "    }\n",
       "\n",
       "    .dataframe tbody tr th {\n",
       "        vertical-align: top;\n",
       "    }\n",
       "\n",
       "    .dataframe thead th {\n",
       "        text-align: right;\n",
       "    }\n",
       "</style>\n",
       "<table border=\"1\" class=\"dataframe\">\n",
       "  <thead>\n",
       "    <tr style=\"text-align: right;\">\n",
       "      <th></th>\n",
       "      <th>trip_id</th>\n",
       "      <th>shopping_time</th>\n",
       "    </tr>\n",
       "  </thead>\n",
       "  <tbody>\n",
       "    <tr>\n",
       "      <th>0</th>\n",
       "      <td>4310899</td>\n",
       "      <td>2512.27970739</td>\n",
       "    </tr>\n",
       "    <tr>\n",
       "      <th>1</th>\n",
       "      <td>4310904</td>\n",
       "      <td>2977.16358753</td>\n",
       "    </tr>\n",
       "    <tr>\n",
       "      <th>2</th>\n",
       "      <td>4310907</td>\n",
       "      <td>2349.57034934</td>\n",
       "    </tr>\n",
       "    <tr>\n",
       "      <th>3</th>\n",
       "      <td>4310911</td>\n",
       "      <td>2047.39582725</td>\n",
       "    </tr>\n",
       "    <tr>\n",
       "      <th>4</th>\n",
       "      <td>4310328</td>\n",
       "      <td>2186.86099129</td>\n",
       "    </tr>\n",
       "  </tbody>\n",
       "</table>\n",
       "</div>"
      ],
      "text/plain": [
       "   trip_id  shopping_time\n",
       "0  4310899  2512.27970739\n",
       "1  4310904  2977.16358753\n",
       "2  4310907  2349.57034934\n",
       "3  4310911  2047.39582725\n",
       "4  4310328  2186.86099129"
      ]
     },
     "execution_count": 282,
     "metadata": {},
     "output_type": "execute_result"
    }
   ],
   "source": [
    "sub.head()"
   ]
  },
  {
   "cell_type": "code",
   "execution_count": 284,
   "metadata": {},
   "outputs": [],
   "source": [
    "from IPython.display import FileLink\n",
    "sub.to_csv('prediction.csv',index=False)\n"
   ]
  },
  {
   "cell_type": "code",
   "execution_count": null,
   "metadata": {},
   "outputs": [],
   "source": [
    "# evaluate predictions\n",
    "accuracy = accuracy_score(y_test, predictions)\n",
    "print(\"Accuracy: %.2f%%\" % (accuracy * 100.0))"
   ]
  },
  {
   "cell_type": "code",
   "execution_count": 254,
   "metadata": {},
   "outputs": [
    {
     "data": {
      "text/plain": [
       "0.0"
      ]
     },
     "execution_count": 254,
     "metadata": {},
     "output_type": "execute_result"
    }
   ],
   "source": [
    "a = [10,10]\n",
    "b = [2,2]\n",
    "accuracy_score(a,b)"
   ]
  },
  {
   "cell_type": "code",
   "execution_count": 362,
   "metadata": {},
   "outputs": [],
   "source": []
  },
  {
   "cell_type": "code",
   "execution_count": 373,
   "metadata": {},
   "outputs": [],
   "source": []
  },
  {
   "cell_type": "code",
   "execution_count": 388,
   "metadata": {},
   "outputs": [],
   "source": []
  },
  {
   "cell_type": "code",
   "execution_count": null,
   "metadata": {},
   "outputs": [],
   "source": []
  }
 ],
 "metadata": {
  "kernelspec": {
   "display_name": "Python 3",
   "language": "python",
   "name": "python3"
  },
  "language_info": {
   "codemirror_mode": {
    "name": "ipython",
    "version": 3
   },
   "file_extension": ".py",
   "mimetype": "text/x-python",
   "name": "python",
   "nbconvert_exporter": "python",
   "pygments_lexer": "ipython3",
   "version": "3.5.2"
  }
 },
 "nbformat": 4,
 "nbformat_minor": 2
}
